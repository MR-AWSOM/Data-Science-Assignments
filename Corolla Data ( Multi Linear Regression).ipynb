{
 "cells": [
  {
   "cell_type": "markdown",
   "id": "1fa36a5d",
   "metadata": {},
   "source": [
    "# Q)\n",
    "# Consider only the below columns and prepare a prediction model for predicting Price.Corolla<-Corolla[c(\"Price\",\"Age_08_04\",\"KM\",\"HP\",\"cc\",\"Doors\",\"Gears\",\"Quarterly_Tax\",\"Weight\")]\n"
   ]
  },
  {
   "cell_type": "markdown",
   "id": "03d2741a",
   "metadata": {},
   "source": [
    "# 1. <u>Import necessasry libraries - "
   ]
  },
  {
   "cell_type": "code",
   "execution_count": 88,
   "id": "f543d818",
   "metadata": {},
   "outputs": [],
   "source": [
    "import pandas as pd\n",
    "import numpy as np\n",
    "\n",
    "from matplotlib import pyplot as plt\n",
    "\n",
    "import seaborn as sns\n",
    "\n",
    "from scipy import stats as stats\n",
    "\n",
    "import statsmodels.formula.api as smf\n",
    "import statsmodels.api as sm"
   ]
  },
  {
   "cell_type": "markdown",
   "id": "3083aa73",
   "metadata": {},
   "source": [
    "# 2. <u>Import Warnings -  "
   ]
  },
  {
   "cell_type": "code",
   "execution_count": 89,
   "id": "d557d479",
   "metadata": {},
   "outputs": [],
   "source": [
    "import warnings\n",
    "warnings.filterwarnings('ignore')"
   ]
  },
  {
   "cell_type": "markdown",
   "id": "55f29f25",
   "metadata": {},
   "source": [
    "# 3.<u>Import Dataset -  "
   ]
  },
  {
   "cell_type": "code",
   "execution_count": 90,
   "id": "c3e2c26f",
   "metadata": {},
   "outputs": [
    {
     "data": {
      "text/html": [
       "<div>\n",
       "<style scoped>\n",
       "    .dataframe tbody tr th:only-of-type {\n",
       "        vertical-align: middle;\n",
       "    }\n",
       "\n",
       "    .dataframe tbody tr th {\n",
       "        vertical-align: top;\n",
       "    }\n",
       "\n",
       "    .dataframe thead th {\n",
       "        text-align: right;\n",
       "    }\n",
       "</style>\n",
       "<table border=\"1\" class=\"dataframe\">\n",
       "  <thead>\n",
       "    <tr style=\"text-align: right;\">\n",
       "      <th></th>\n",
       "      <th>Id</th>\n",
       "      <th>Model</th>\n",
       "      <th>Price</th>\n",
       "      <th>Age_08_04</th>\n",
       "      <th>Mfg_Month</th>\n",
       "      <th>Mfg_Year</th>\n",
       "      <th>KM</th>\n",
       "      <th>Fuel_Type</th>\n",
       "      <th>HP</th>\n",
       "      <th>Met_Color</th>\n",
       "      <th>...</th>\n",
       "      <th>Central_Lock</th>\n",
       "      <th>Powered_Windows</th>\n",
       "      <th>Power_Steering</th>\n",
       "      <th>Radio</th>\n",
       "      <th>Mistlamps</th>\n",
       "      <th>Sport_Model</th>\n",
       "      <th>Backseat_Divider</th>\n",
       "      <th>Metallic_Rim</th>\n",
       "      <th>Radio_cassette</th>\n",
       "      <th>Tow_Bar</th>\n",
       "    </tr>\n",
       "  </thead>\n",
       "  <tbody>\n",
       "    <tr>\n",
       "      <th>0</th>\n",
       "      <td>1</td>\n",
       "      <td>TOYOTA Corolla 2.0 D4D HATCHB TERRA 2/3-Doors</td>\n",
       "      <td>13500</td>\n",
       "      <td>23</td>\n",
       "      <td>10</td>\n",
       "      <td>2002</td>\n",
       "      <td>46986</td>\n",
       "      <td>Diesel</td>\n",
       "      <td>90</td>\n",
       "      <td>1</td>\n",
       "      <td>...</td>\n",
       "      <td>1</td>\n",
       "      <td>1</td>\n",
       "      <td>1</td>\n",
       "      <td>0</td>\n",
       "      <td>0</td>\n",
       "      <td>0</td>\n",
       "      <td>1</td>\n",
       "      <td>0</td>\n",
       "      <td>0</td>\n",
       "      <td>0</td>\n",
       "    </tr>\n",
       "    <tr>\n",
       "      <th>1</th>\n",
       "      <td>2</td>\n",
       "      <td>TOYOTA Corolla 2.0 D4D HATCHB TERRA 2/3-Doors</td>\n",
       "      <td>13750</td>\n",
       "      <td>23</td>\n",
       "      <td>10</td>\n",
       "      <td>2002</td>\n",
       "      <td>72937</td>\n",
       "      <td>Diesel</td>\n",
       "      <td>90</td>\n",
       "      <td>1</td>\n",
       "      <td>...</td>\n",
       "      <td>1</td>\n",
       "      <td>0</td>\n",
       "      <td>1</td>\n",
       "      <td>0</td>\n",
       "      <td>0</td>\n",
       "      <td>0</td>\n",
       "      <td>1</td>\n",
       "      <td>0</td>\n",
       "      <td>0</td>\n",
       "      <td>0</td>\n",
       "    </tr>\n",
       "    <tr>\n",
       "      <th>2</th>\n",
       "      <td>3</td>\n",
       "      <td>TOYOTA Corolla 2.0 D4D HATCHB TERRA 2/3-Doors</td>\n",
       "      <td>13950</td>\n",
       "      <td>24</td>\n",
       "      <td>9</td>\n",
       "      <td>2002</td>\n",
       "      <td>41711</td>\n",
       "      <td>Diesel</td>\n",
       "      <td>90</td>\n",
       "      <td>1</td>\n",
       "      <td>...</td>\n",
       "      <td>0</td>\n",
       "      <td>0</td>\n",
       "      <td>1</td>\n",
       "      <td>0</td>\n",
       "      <td>0</td>\n",
       "      <td>0</td>\n",
       "      <td>1</td>\n",
       "      <td>0</td>\n",
       "      <td>0</td>\n",
       "      <td>0</td>\n",
       "    </tr>\n",
       "    <tr>\n",
       "      <th>3</th>\n",
       "      <td>4</td>\n",
       "      <td>TOYOTA Corolla 2.0 D4D HATCHB TERRA 2/3-Doors</td>\n",
       "      <td>14950</td>\n",
       "      <td>26</td>\n",
       "      <td>7</td>\n",
       "      <td>2002</td>\n",
       "      <td>48000</td>\n",
       "      <td>Diesel</td>\n",
       "      <td>90</td>\n",
       "      <td>0</td>\n",
       "      <td>...</td>\n",
       "      <td>0</td>\n",
       "      <td>0</td>\n",
       "      <td>1</td>\n",
       "      <td>0</td>\n",
       "      <td>0</td>\n",
       "      <td>0</td>\n",
       "      <td>1</td>\n",
       "      <td>0</td>\n",
       "      <td>0</td>\n",
       "      <td>0</td>\n",
       "    </tr>\n",
       "    <tr>\n",
       "      <th>4</th>\n",
       "      <td>5</td>\n",
       "      <td>TOYOTA Corolla 2.0 D4D HATCHB SOL 2/3-Doors</td>\n",
       "      <td>13750</td>\n",
       "      <td>30</td>\n",
       "      <td>3</td>\n",
       "      <td>2002</td>\n",
       "      <td>38500</td>\n",
       "      <td>Diesel</td>\n",
       "      <td>90</td>\n",
       "      <td>0</td>\n",
       "      <td>...</td>\n",
       "      <td>1</td>\n",
       "      <td>1</td>\n",
       "      <td>1</td>\n",
       "      <td>0</td>\n",
       "      <td>1</td>\n",
       "      <td>0</td>\n",
       "      <td>1</td>\n",
       "      <td>0</td>\n",
       "      <td>0</td>\n",
       "      <td>0</td>\n",
       "    </tr>\n",
       "    <tr>\n",
       "      <th>...</th>\n",
       "      <td>...</td>\n",
       "      <td>...</td>\n",
       "      <td>...</td>\n",
       "      <td>...</td>\n",
       "      <td>...</td>\n",
       "      <td>...</td>\n",
       "      <td>...</td>\n",
       "      <td>...</td>\n",
       "      <td>...</td>\n",
       "      <td>...</td>\n",
       "      <td>...</td>\n",
       "      <td>...</td>\n",
       "      <td>...</td>\n",
       "      <td>...</td>\n",
       "      <td>...</td>\n",
       "      <td>...</td>\n",
       "      <td>...</td>\n",
       "      <td>...</td>\n",
       "      <td>...</td>\n",
       "      <td>...</td>\n",
       "      <td>...</td>\n",
       "    </tr>\n",
       "    <tr>\n",
       "      <th>1431</th>\n",
       "      <td>1438</td>\n",
       "      <td>TOYOTA Corolla 1.3 16V HATCHB G6 2/3-Doors</td>\n",
       "      <td>7500</td>\n",
       "      <td>69</td>\n",
       "      <td>12</td>\n",
       "      <td>1998</td>\n",
       "      <td>20544</td>\n",
       "      <td>Petrol</td>\n",
       "      <td>86</td>\n",
       "      <td>1</td>\n",
       "      <td>...</td>\n",
       "      <td>1</td>\n",
       "      <td>1</td>\n",
       "      <td>1</td>\n",
       "      <td>0</td>\n",
       "      <td>1</td>\n",
       "      <td>1</td>\n",
       "      <td>1</td>\n",
       "      <td>0</td>\n",
       "      <td>0</td>\n",
       "      <td>0</td>\n",
       "    </tr>\n",
       "    <tr>\n",
       "      <th>1432</th>\n",
       "      <td>1439</td>\n",
       "      <td>TOYOTA Corolla 1.3 16V HATCHB LINEA TERRA 2/3-...</td>\n",
       "      <td>10845</td>\n",
       "      <td>72</td>\n",
       "      <td>9</td>\n",
       "      <td>1998</td>\n",
       "      <td>19000</td>\n",
       "      <td>Petrol</td>\n",
       "      <td>86</td>\n",
       "      <td>0</td>\n",
       "      <td>...</td>\n",
       "      <td>0</td>\n",
       "      <td>0</td>\n",
       "      <td>1</td>\n",
       "      <td>0</td>\n",
       "      <td>0</td>\n",
       "      <td>1</td>\n",
       "      <td>1</td>\n",
       "      <td>0</td>\n",
       "      <td>0</td>\n",
       "      <td>0</td>\n",
       "    </tr>\n",
       "    <tr>\n",
       "      <th>1433</th>\n",
       "      <td>1440</td>\n",
       "      <td>TOYOTA Corolla 1.3 16V HATCHB LINEA TERRA 2/3-...</td>\n",
       "      <td>8500</td>\n",
       "      <td>71</td>\n",
       "      <td>10</td>\n",
       "      <td>1998</td>\n",
       "      <td>17016</td>\n",
       "      <td>Petrol</td>\n",
       "      <td>86</td>\n",
       "      <td>0</td>\n",
       "      <td>...</td>\n",
       "      <td>0</td>\n",
       "      <td>0</td>\n",
       "      <td>1</td>\n",
       "      <td>0</td>\n",
       "      <td>0</td>\n",
       "      <td>0</td>\n",
       "      <td>1</td>\n",
       "      <td>0</td>\n",
       "      <td>0</td>\n",
       "      <td>0</td>\n",
       "    </tr>\n",
       "    <tr>\n",
       "      <th>1434</th>\n",
       "      <td>1441</td>\n",
       "      <td>TOYOTA Corolla 1.3 16V HATCHB LINEA TERRA 2/3-...</td>\n",
       "      <td>7250</td>\n",
       "      <td>70</td>\n",
       "      <td>11</td>\n",
       "      <td>1998</td>\n",
       "      <td>16916</td>\n",
       "      <td>Petrol</td>\n",
       "      <td>86</td>\n",
       "      <td>1</td>\n",
       "      <td>...</td>\n",
       "      <td>0</td>\n",
       "      <td>0</td>\n",
       "      <td>0</td>\n",
       "      <td>0</td>\n",
       "      <td>0</td>\n",
       "      <td>0</td>\n",
       "      <td>1</td>\n",
       "      <td>0</td>\n",
       "      <td>0</td>\n",
       "      <td>0</td>\n",
       "    </tr>\n",
       "    <tr>\n",
       "      <th>1435</th>\n",
       "      <td>1442</td>\n",
       "      <td>TOYOTA Corolla 1.6 LB LINEA TERRA 4/5-Doors</td>\n",
       "      <td>6950</td>\n",
       "      <td>76</td>\n",
       "      <td>5</td>\n",
       "      <td>1998</td>\n",
       "      <td>1</td>\n",
       "      <td>Petrol</td>\n",
       "      <td>110</td>\n",
       "      <td>0</td>\n",
       "      <td>...</td>\n",
       "      <td>0</td>\n",
       "      <td>0</td>\n",
       "      <td>1</td>\n",
       "      <td>0</td>\n",
       "      <td>0</td>\n",
       "      <td>0</td>\n",
       "      <td>0</td>\n",
       "      <td>0</td>\n",
       "      <td>0</td>\n",
       "      <td>0</td>\n",
       "    </tr>\n",
       "  </tbody>\n",
       "</table>\n",
       "<p>1436 rows × 38 columns</p>\n",
       "</div>"
      ],
      "text/plain": [
       "        Id                                              Model  Price  \\\n",
       "0        1      TOYOTA Corolla 2.0 D4D HATCHB TERRA 2/3-Doors  13500   \n",
       "1        2      TOYOTA Corolla 2.0 D4D HATCHB TERRA 2/3-Doors  13750   \n",
       "2        3      TOYOTA Corolla 2.0 D4D HATCHB TERRA 2/3-Doors  13950   \n",
       "3        4      TOYOTA Corolla 2.0 D4D HATCHB TERRA 2/3-Doors  14950   \n",
       "4        5        TOYOTA Corolla 2.0 D4D HATCHB SOL 2/3-Doors  13750   \n",
       "...    ...                                                ...    ...   \n",
       "1431  1438         TOYOTA Corolla 1.3 16V HATCHB G6 2/3-Doors   7500   \n",
       "1432  1439  TOYOTA Corolla 1.3 16V HATCHB LINEA TERRA 2/3-...  10845   \n",
       "1433  1440  TOYOTA Corolla 1.3 16V HATCHB LINEA TERRA 2/3-...   8500   \n",
       "1434  1441  TOYOTA Corolla 1.3 16V HATCHB LINEA TERRA 2/3-...   7250   \n",
       "1435  1442        TOYOTA Corolla 1.6 LB LINEA TERRA 4/5-Doors   6950   \n",
       "\n",
       "      Age_08_04  Mfg_Month  Mfg_Year     KM Fuel_Type   HP  Met_Color  ...  \\\n",
       "0            23         10      2002  46986    Diesel   90          1  ...   \n",
       "1            23         10      2002  72937    Diesel   90          1  ...   \n",
       "2            24          9      2002  41711    Diesel   90          1  ...   \n",
       "3            26          7      2002  48000    Diesel   90          0  ...   \n",
       "4            30          3      2002  38500    Diesel   90          0  ...   \n",
       "...         ...        ...       ...    ...       ...  ...        ...  ...   \n",
       "1431         69         12      1998  20544    Petrol   86          1  ...   \n",
       "1432         72          9      1998  19000    Petrol   86          0  ...   \n",
       "1433         71         10      1998  17016    Petrol   86          0  ...   \n",
       "1434         70         11      1998  16916    Petrol   86          1  ...   \n",
       "1435         76          5      1998      1    Petrol  110          0  ...   \n",
       "\n",
       "     Central_Lock  Powered_Windows  Power_Steering  Radio  Mistlamps  \\\n",
       "0               1                1               1      0          0   \n",
       "1               1                0               1      0          0   \n",
       "2               0                0               1      0          0   \n",
       "3               0                0               1      0          0   \n",
       "4               1                1               1      0          1   \n",
       "...           ...              ...             ...    ...        ...   \n",
       "1431            1                1               1      0          1   \n",
       "1432            0                0               1      0          0   \n",
       "1433            0                0               1      0          0   \n",
       "1434            0                0               0      0          0   \n",
       "1435            0                0               1      0          0   \n",
       "\n",
       "      Sport_Model  Backseat_Divider  Metallic_Rim  Radio_cassette  Tow_Bar  \n",
       "0               0                 1             0               0        0  \n",
       "1               0                 1             0               0        0  \n",
       "2               0                 1             0               0        0  \n",
       "3               0                 1             0               0        0  \n",
       "4               0                 1             0               0        0  \n",
       "...           ...               ...           ...             ...      ...  \n",
       "1431            1                 1             0               0        0  \n",
       "1432            1                 1             0               0        0  \n",
       "1433            0                 1             0               0        0  \n",
       "1434            0                 1             0               0        0  \n",
       "1435            0                 0             0               0        0  \n",
       "\n",
       "[1436 rows x 38 columns]"
      ]
     },
     "execution_count": 90,
     "metadata": {},
     "output_type": "execute_result"
    }
   ],
   "source": [
    "corolla_data = pd.read_csv('ToyotaCorolla.csv',encoding= 'unicode_escape')\n",
    "corolla_data"
   ]
  },
  {
   "cell_type": "code",
   "execution_count": null,
   "id": "594d4264",
   "metadata": {},
   "outputs": [],
   "source": []
  },
  {
   "cell_type": "markdown",
   "id": "9af64fa6",
   "metadata": {},
   "source": [
    "# 4. <u>Data Understanding -  "
   ]
  },
  {
   "cell_type": "markdown",
   "id": "57f5fcaa",
   "metadata": {},
   "source": [
    "## (4.1) <u>Initial analysis - "
   ]
  },
  {
   "cell_type": "markdown",
   "id": "73859500",
   "metadata": {},
   "source": [
    "## Model -- model of the car\n",
    "## Price  -- Offer Price in EUROs\t\n",
    "## Age_08_04 -- Age in months as in August 2004\t\n",
    "## Mfg_Month -- Manufacturing month (1-12)\t\n",
    "## Mfg_Year\t-- Manufacturing Year\n",
    "## KM -- Accumulated Kilometers on odometer\n",
    "## Fuel_Type\t -- Fuel Type (Petrol, Diesel, CNG)\n",
    "## HP -- Horse Power\n",
    "## Met_Color\t -- Metallic Color?  (Yes=1, No=0)\n",
    "## Color -- Color (Blue, Red, Grey, Silver, Black, etc.)\n",
    "## Automatic\t-- Automatic ( (Yes=1, No=0)\n",
    "## cc -- Cylinder Volume in cubic centimeters\n",
    "## Doors -- Number of doors\n",
    "## Cylinders\t-- Number of cylinders\n",
    "## Gears -- Number of gear positions\n",
    "## Quarterly_Tax -- Quarterly road tax in EUROs\n",
    "## Weight -- Weight in Kilograms\n",
    "## Mfr_Guarantee -- Within Manufacturer's Guarantee period  (Yes=1, No=0)\n",
    "## BOVAG_Guarantee -- BOVAG (Dutch dealer network) Guarantee  (Yes=1, No=0)\n",
    "## Guarantee_Period -- \tGuarantee period in months\n",
    "## ABS -- Anti-Lock Brake System (Yes=1, No=0)\n",
    "## Airbag_1 -- Driver_Airbag  (Yes=1, No=0)\n",
    "## Airbag_2 -- Passenger Airbag  (Yes=1, No=0)\n",
    "## Airco -- Airconditioning  (Yes=1, No=0)\n",
    "## Automatic_airco -- Automatic Airconditioning  (Yes=1, No=0)\n",
    "## Boardcomputer -- Boardcomputer  (Yes=1, No=0)\n",
    "## CD_Player -- CD Player  (Yes=1, No=0)\n",
    "## Central_Lock -- Central Lock  (Yes=1, No=0)\n",
    "## Powered_Windows -- Powered Windows  (Yes=1, No=0)\n",
    "## Power_Steering -- Power Steering  (Yes=1, No=0)\n",
    "## Radio -- Radio  (Yes=1, No=0)\n",
    "## Mistlamps\t-- Mistlamps  (Yes=1, No=0)\n",
    "## Sport_Model -- Sport Model  (Yes=1, No=0)\n",
    "## Backseat_Divider -- Backseat Divider  (Yes=1, No=0)\n",
    "## Metallic_Rim --Metallic Rim  (Yes=1, No=0)\n",
    "## Radio_cassette -- Radio Cassette  (Yes=1, No=0)\n",
    "## Tow_Bar -- Tow Bar  (Yes=1, No=0)\n",
    "\n",
    "\n",
    " "
   ]
  },
  {
   "cell_type": "code",
   "execution_count": 91,
   "id": "d0cda421",
   "metadata": {},
   "outputs": [
    {
     "data": {
      "text/plain": [
       "Id                  0\n",
       "Model               0\n",
       "Price               0\n",
       "Age_08_04           0\n",
       "Mfg_Month           0\n",
       "Mfg_Year            0\n",
       "KM                  0\n",
       "Fuel_Type           0\n",
       "HP                  0\n",
       "Met_Color           0\n",
       "Color               0\n",
       "Automatic           0\n",
       "cc                  0\n",
       "Doors               0\n",
       "Cylinders           0\n",
       "Gears               0\n",
       "Quarterly_Tax       0\n",
       "Weight              0\n",
       "Mfr_Guarantee       0\n",
       "BOVAG_Guarantee     0\n",
       "Guarantee_Period    0\n",
       "ABS                 0\n",
       "Airbag_1            0\n",
       "Airbag_2            0\n",
       "Airco               0\n",
       "Automatic_airco     0\n",
       "Boardcomputer       0\n",
       "CD_Player           0\n",
       "Central_Lock        0\n",
       "Powered_Windows     0\n",
       "Power_Steering      0\n",
       "Radio               0\n",
       "Mistlamps           0\n",
       "Sport_Model         0\n",
       "Backseat_Divider    0\n",
       "Metallic_Rim        0\n",
       "Radio_cassette      0\n",
       "Tow_Bar             0\n",
       "dtype: int64"
      ]
     },
     "execution_count": 91,
     "metadata": {},
     "output_type": "execute_result"
    }
   ],
   "source": [
    "corolla_data.isna().sum()"
   ]
  },
  {
   "cell_type": "code",
   "execution_count": 92,
   "id": "46ee559a",
   "metadata": {},
   "outputs": [
    {
     "data": {
      "text/plain": [
       "Id                   int64\n",
       "Model               object\n",
       "Price                int64\n",
       "Age_08_04            int64\n",
       "Mfg_Month            int64\n",
       "Mfg_Year             int64\n",
       "KM                   int64\n",
       "Fuel_Type           object\n",
       "HP                   int64\n",
       "Met_Color            int64\n",
       "Color               object\n",
       "Automatic            int64\n",
       "cc                   int64\n",
       "Doors                int64\n",
       "Cylinders            int64\n",
       "Gears                int64\n",
       "Quarterly_Tax        int64\n",
       "Weight               int64\n",
       "Mfr_Guarantee        int64\n",
       "BOVAG_Guarantee      int64\n",
       "Guarantee_Period     int64\n",
       "ABS                  int64\n",
       "Airbag_1             int64\n",
       "Airbag_2             int64\n",
       "Airco                int64\n",
       "Automatic_airco      int64\n",
       "Boardcomputer        int64\n",
       "CD_Player            int64\n",
       "Central_Lock         int64\n",
       "Powered_Windows      int64\n",
       "Power_Steering       int64\n",
       "Radio                int64\n",
       "Mistlamps            int64\n",
       "Sport_Model          int64\n",
       "Backseat_Divider     int64\n",
       "Metallic_Rim         int64\n",
       "Radio_cassette       int64\n",
       "Tow_Bar              int64\n",
       "dtype: object"
      ]
     },
     "execution_count": 92,
     "metadata": {},
     "output_type": "execute_result"
    }
   ],
   "source": [
    "corolla_data.dtypes"
   ]
  },
  {
   "cell_type": "code",
   "execution_count": 93,
   "id": "c7a5cb50",
   "metadata": {},
   "outputs": [
    {
     "data": {
      "text/plain": [
       "(1436, 38)"
      ]
     },
     "execution_count": 93,
     "metadata": {},
     "output_type": "execute_result"
    }
   ],
   "source": [
    "corolla_data.shape"
   ]
  },
  {
   "cell_type": "markdown",
   "id": "020da25f",
   "metadata": {},
   "source": [
    "# 5. <u>Data Preparation -  "
   ]
  },
  {
   "cell_type": "markdown",
   "id": "8e5e634a",
   "metadata": {},
   "source": [
    "## Corolla<-Corolla[c(\"Price\",\"Age_08_04\",\"KM\",\"HP\",\"cc\",\"Doors\",\"Gears\",\"Quarterly_Tax\",\"Weight\")] "
   ]
  },
  {
   "cell_type": "code",
   "execution_count": 94,
   "id": "e9315622",
   "metadata": {},
   "outputs": [
    {
     "data": {
      "text/html": [
       "<div>\n",
       "<style scoped>\n",
       "    .dataframe tbody tr th:only-of-type {\n",
       "        vertical-align: middle;\n",
       "    }\n",
       "\n",
       "    .dataframe tbody tr th {\n",
       "        vertical-align: top;\n",
       "    }\n",
       "\n",
       "    .dataframe thead th {\n",
       "        text-align: right;\n",
       "    }\n",
       "</style>\n",
       "<table border=\"1\" class=\"dataframe\">\n",
       "  <thead>\n",
       "    <tr style=\"text-align: right;\">\n",
       "      <th></th>\n",
       "      <th>Price</th>\n",
       "      <th>Age_08_04</th>\n",
       "      <th>KM</th>\n",
       "      <th>HP</th>\n",
       "      <th>cc</th>\n",
       "      <th>Doors</th>\n",
       "      <th>Gears</th>\n",
       "      <th>Quarterly_Tax</th>\n",
       "      <th>Weight</th>\n",
       "    </tr>\n",
       "  </thead>\n",
       "  <tbody>\n",
       "    <tr>\n",
       "      <th>0</th>\n",
       "      <td>13500</td>\n",
       "      <td>23</td>\n",
       "      <td>46986</td>\n",
       "      <td>90</td>\n",
       "      <td>2000</td>\n",
       "      <td>3</td>\n",
       "      <td>5</td>\n",
       "      <td>210</td>\n",
       "      <td>1165</td>\n",
       "    </tr>\n",
       "    <tr>\n",
       "      <th>1</th>\n",
       "      <td>13750</td>\n",
       "      <td>23</td>\n",
       "      <td>72937</td>\n",
       "      <td>90</td>\n",
       "      <td>2000</td>\n",
       "      <td>3</td>\n",
       "      <td>5</td>\n",
       "      <td>210</td>\n",
       "      <td>1165</td>\n",
       "    </tr>\n",
       "    <tr>\n",
       "      <th>2</th>\n",
       "      <td>13950</td>\n",
       "      <td>24</td>\n",
       "      <td>41711</td>\n",
       "      <td>90</td>\n",
       "      <td>2000</td>\n",
       "      <td>3</td>\n",
       "      <td>5</td>\n",
       "      <td>210</td>\n",
       "      <td>1165</td>\n",
       "    </tr>\n",
       "    <tr>\n",
       "      <th>3</th>\n",
       "      <td>14950</td>\n",
       "      <td>26</td>\n",
       "      <td>48000</td>\n",
       "      <td>90</td>\n",
       "      <td>2000</td>\n",
       "      <td>3</td>\n",
       "      <td>5</td>\n",
       "      <td>210</td>\n",
       "      <td>1165</td>\n",
       "    </tr>\n",
       "    <tr>\n",
       "      <th>4</th>\n",
       "      <td>13750</td>\n",
       "      <td>30</td>\n",
       "      <td>38500</td>\n",
       "      <td>90</td>\n",
       "      <td>2000</td>\n",
       "      <td>3</td>\n",
       "      <td>5</td>\n",
       "      <td>210</td>\n",
       "      <td>1170</td>\n",
       "    </tr>\n",
       "    <tr>\n",
       "      <th>...</th>\n",
       "      <td>...</td>\n",
       "      <td>...</td>\n",
       "      <td>...</td>\n",
       "      <td>...</td>\n",
       "      <td>...</td>\n",
       "      <td>...</td>\n",
       "      <td>...</td>\n",
       "      <td>...</td>\n",
       "      <td>...</td>\n",
       "    </tr>\n",
       "    <tr>\n",
       "      <th>1431</th>\n",
       "      <td>7500</td>\n",
       "      <td>69</td>\n",
       "      <td>20544</td>\n",
       "      <td>86</td>\n",
       "      <td>1300</td>\n",
       "      <td>3</td>\n",
       "      <td>5</td>\n",
       "      <td>69</td>\n",
       "      <td>1025</td>\n",
       "    </tr>\n",
       "    <tr>\n",
       "      <th>1432</th>\n",
       "      <td>10845</td>\n",
       "      <td>72</td>\n",
       "      <td>19000</td>\n",
       "      <td>86</td>\n",
       "      <td>1300</td>\n",
       "      <td>3</td>\n",
       "      <td>5</td>\n",
       "      <td>69</td>\n",
       "      <td>1015</td>\n",
       "    </tr>\n",
       "    <tr>\n",
       "      <th>1433</th>\n",
       "      <td>8500</td>\n",
       "      <td>71</td>\n",
       "      <td>17016</td>\n",
       "      <td>86</td>\n",
       "      <td>1300</td>\n",
       "      <td>3</td>\n",
       "      <td>5</td>\n",
       "      <td>69</td>\n",
       "      <td>1015</td>\n",
       "    </tr>\n",
       "    <tr>\n",
       "      <th>1434</th>\n",
       "      <td>7250</td>\n",
       "      <td>70</td>\n",
       "      <td>16916</td>\n",
       "      <td>86</td>\n",
       "      <td>1300</td>\n",
       "      <td>3</td>\n",
       "      <td>5</td>\n",
       "      <td>69</td>\n",
       "      <td>1015</td>\n",
       "    </tr>\n",
       "    <tr>\n",
       "      <th>1435</th>\n",
       "      <td>6950</td>\n",
       "      <td>76</td>\n",
       "      <td>1</td>\n",
       "      <td>110</td>\n",
       "      <td>1600</td>\n",
       "      <td>5</td>\n",
       "      <td>5</td>\n",
       "      <td>19</td>\n",
       "      <td>1114</td>\n",
       "    </tr>\n",
       "  </tbody>\n",
       "</table>\n",
       "<p>1436 rows × 9 columns</p>\n",
       "</div>"
      ],
      "text/plain": [
       "      Price  Age_08_04     KM   HP    cc  Doors  Gears  Quarterly_Tax  Weight\n",
       "0     13500         23  46986   90  2000      3      5            210    1165\n",
       "1     13750         23  72937   90  2000      3      5            210    1165\n",
       "2     13950         24  41711   90  2000      3      5            210    1165\n",
       "3     14950         26  48000   90  2000      3      5            210    1165\n",
       "4     13750         30  38500   90  2000      3      5            210    1170\n",
       "...     ...        ...    ...  ...   ...    ...    ...            ...     ...\n",
       "1431   7500         69  20544   86  1300      3      5             69    1025\n",
       "1432  10845         72  19000   86  1300      3      5             69    1015\n",
       "1433   8500         71  17016   86  1300      3      5             69    1015\n",
       "1434   7250         70  16916   86  1300      3      5             69    1015\n",
       "1435   6950         76      1  110  1600      5      5             19    1114\n",
       "\n",
       "[1436 rows x 9 columns]"
      ]
     },
     "execution_count": 94,
     "metadata": {},
     "output_type": "execute_result"
    }
   ],
   "source": [
    "corolla = corolla_data[['Price','Age_08_04','KM','HP','cc','Doors','Gears','Quarterly_Tax','Weight']]\n",
    "corolla"
   ]
  },
  {
   "cell_type": "markdown",
   "id": "c9ec21d1",
   "metadata": {},
   "source": [
    "### Removing duplicate rows"
   ]
  },
  {
   "cell_type": "code",
   "execution_count": 95,
   "id": "9759a6c4",
   "metadata": {},
   "outputs": [
    {
     "data": {
      "text/plain": [
       "1"
      ]
     },
     "execution_count": 95,
     "metadata": {},
     "output_type": "execute_result"
    }
   ],
   "source": [
    "corolla.duplicated().sum()"
   ]
  },
  {
   "cell_type": "code",
   "execution_count": 96,
   "id": "cea72631",
   "metadata": {},
   "outputs": [
    {
     "data": {
      "text/html": [
       "<div>\n",
       "<style scoped>\n",
       "    .dataframe tbody tr th:only-of-type {\n",
       "        vertical-align: middle;\n",
       "    }\n",
       "\n",
       "    .dataframe tbody tr th {\n",
       "        vertical-align: top;\n",
       "    }\n",
       "\n",
       "    .dataframe thead th {\n",
       "        text-align: right;\n",
       "    }\n",
       "</style>\n",
       "<table border=\"1\" class=\"dataframe\">\n",
       "  <thead>\n",
       "    <tr style=\"text-align: right;\">\n",
       "      <th></th>\n",
       "      <th>Price</th>\n",
       "      <th>Age_08_04</th>\n",
       "      <th>KM</th>\n",
       "      <th>HP</th>\n",
       "      <th>cc</th>\n",
       "      <th>Doors</th>\n",
       "      <th>Gears</th>\n",
       "      <th>Quarterly_Tax</th>\n",
       "      <th>Weight</th>\n",
       "    </tr>\n",
       "  </thead>\n",
       "  <tbody>\n",
       "    <tr>\n",
       "      <th>113</th>\n",
       "      <td>24950</td>\n",
       "      <td>8</td>\n",
       "      <td>13253</td>\n",
       "      <td>116</td>\n",
       "      <td>2000</td>\n",
       "      <td>5</td>\n",
       "      <td>5</td>\n",
       "      <td>234</td>\n",
       "      <td>1320</td>\n",
       "    </tr>\n",
       "  </tbody>\n",
       "</table>\n",
       "</div>"
      ],
      "text/plain": [
       "     Price  Age_08_04     KM   HP    cc  Doors  Gears  Quarterly_Tax  Weight\n",
       "113  24950          8  13253  116  2000      5      5            234    1320"
      ]
     },
     "execution_count": 96,
     "metadata": {},
     "output_type": "execute_result"
    }
   ],
   "source": [
    "corolla[corolla.duplicated()]"
   ]
  },
  {
   "cell_type": "code",
   "execution_count": 97,
   "id": "a0ef61a8",
   "metadata": {},
   "outputs": [],
   "source": [
    "corolla.drop_duplicates(inplace = True)"
   ]
  },
  {
   "cell_type": "code",
   "execution_count": 98,
   "id": "d1552adb",
   "metadata": {},
   "outputs": [],
   "source": [
    "corolla.reset_index(drop = True, inplace= True)"
   ]
  },
  {
   "cell_type": "code",
   "execution_count": 99,
   "id": "f832bba0",
   "metadata": {},
   "outputs": [
    {
     "data": {
      "text/plain": [
       "0"
      ]
     },
     "execution_count": 99,
     "metadata": {},
     "output_type": "execute_result"
    }
   ],
   "source": [
    "corolla.duplicated().sum()"
   ]
  },
  {
   "cell_type": "markdown",
   "id": "acc51126",
   "metadata": {},
   "source": [
    "# 6.<u>Data Visualisation -  "
   ]
  },
  {
   "cell_type": "markdown",
   "id": "d6e28c2f",
   "metadata": {},
   "source": [
    "## Correlation Matrix  "
   ]
  },
  {
   "cell_type": "code",
   "execution_count": 100,
   "id": "0247989d",
   "metadata": {},
   "outputs": [
    {
     "data": {
      "text/html": [
       "<div>\n",
       "<style scoped>\n",
       "    .dataframe tbody tr th:only-of-type {\n",
       "        vertical-align: middle;\n",
       "    }\n",
       "\n",
       "    .dataframe tbody tr th {\n",
       "        vertical-align: top;\n",
       "    }\n",
       "\n",
       "    .dataframe thead th {\n",
       "        text-align: right;\n",
       "    }\n",
       "</style>\n",
       "<table border=\"1\" class=\"dataframe\">\n",
       "  <thead>\n",
       "    <tr style=\"text-align: right;\">\n",
       "      <th></th>\n",
       "      <th>Price</th>\n",
       "      <th>Age_08_04</th>\n",
       "      <th>KM</th>\n",
       "      <th>HP</th>\n",
       "      <th>cc</th>\n",
       "      <th>Doors</th>\n",
       "      <th>Gears</th>\n",
       "      <th>Quarterly_Tax</th>\n",
       "      <th>Weight</th>\n",
       "    </tr>\n",
       "  </thead>\n",
       "  <tbody>\n",
       "    <tr>\n",
       "      <th>count</th>\n",
       "      <td>1435.000000</td>\n",
       "      <td>1435.000000</td>\n",
       "      <td>1435.000000</td>\n",
       "      <td>1435.000000</td>\n",
       "      <td>1435.000000</td>\n",
       "      <td>1435.000000</td>\n",
       "      <td>1435.000000</td>\n",
       "      <td>1435.000000</td>\n",
       "      <td>1435.000000</td>\n",
       "    </tr>\n",
       "    <tr>\n",
       "      <th>mean</th>\n",
       "      <td>10720.915679</td>\n",
       "      <td>55.980488</td>\n",
       "      <td>68571.782578</td>\n",
       "      <td>101.491986</td>\n",
       "      <td>1576.560976</td>\n",
       "      <td>4.032753</td>\n",
       "      <td>5.026481</td>\n",
       "      <td>87.020209</td>\n",
       "      <td>1072.287108</td>\n",
       "    </tr>\n",
       "    <tr>\n",
       "      <th>std</th>\n",
       "      <td>3608.732978</td>\n",
       "      <td>18.563312</td>\n",
       "      <td>37491.094553</td>\n",
       "      <td>14.981408</td>\n",
       "      <td>424.387533</td>\n",
       "      <td>0.952667</td>\n",
       "      <td>0.188575</td>\n",
       "      <td>40.959588</td>\n",
       "      <td>52.251882</td>\n",
       "    </tr>\n",
       "    <tr>\n",
       "      <th>min</th>\n",
       "      <td>4350.000000</td>\n",
       "      <td>1.000000</td>\n",
       "      <td>1.000000</td>\n",
       "      <td>69.000000</td>\n",
       "      <td>1300.000000</td>\n",
       "      <td>2.000000</td>\n",
       "      <td>3.000000</td>\n",
       "      <td>19.000000</td>\n",
       "      <td>1000.000000</td>\n",
       "    </tr>\n",
       "    <tr>\n",
       "      <th>25%</th>\n",
       "      <td>8450.000000</td>\n",
       "      <td>44.000000</td>\n",
       "      <td>43000.000000</td>\n",
       "      <td>90.000000</td>\n",
       "      <td>1400.000000</td>\n",
       "      <td>3.000000</td>\n",
       "      <td>5.000000</td>\n",
       "      <td>69.000000</td>\n",
       "      <td>1040.000000</td>\n",
       "    </tr>\n",
       "    <tr>\n",
       "      <th>50%</th>\n",
       "      <td>9900.000000</td>\n",
       "      <td>61.000000</td>\n",
       "      <td>63451.000000</td>\n",
       "      <td>110.000000</td>\n",
       "      <td>1600.000000</td>\n",
       "      <td>4.000000</td>\n",
       "      <td>5.000000</td>\n",
       "      <td>85.000000</td>\n",
       "      <td>1070.000000</td>\n",
       "    </tr>\n",
       "    <tr>\n",
       "      <th>75%</th>\n",
       "      <td>11950.000000</td>\n",
       "      <td>70.000000</td>\n",
       "      <td>87041.500000</td>\n",
       "      <td>110.000000</td>\n",
       "      <td>1600.000000</td>\n",
       "      <td>5.000000</td>\n",
       "      <td>5.000000</td>\n",
       "      <td>85.000000</td>\n",
       "      <td>1085.000000</td>\n",
       "    </tr>\n",
       "    <tr>\n",
       "      <th>max</th>\n",
       "      <td>32500.000000</td>\n",
       "      <td>80.000000</td>\n",
       "      <td>243000.000000</td>\n",
       "      <td>192.000000</td>\n",
       "      <td>16000.000000</td>\n",
       "      <td>5.000000</td>\n",
       "      <td>6.000000</td>\n",
       "      <td>283.000000</td>\n",
       "      <td>1615.000000</td>\n",
       "    </tr>\n",
       "  </tbody>\n",
       "</table>\n",
       "</div>"
      ],
      "text/plain": [
       "              Price    Age_08_04             KM           HP            cc  \\\n",
       "count   1435.000000  1435.000000    1435.000000  1435.000000   1435.000000   \n",
       "mean   10720.915679    55.980488   68571.782578   101.491986   1576.560976   \n",
       "std     3608.732978    18.563312   37491.094553    14.981408    424.387533   \n",
       "min     4350.000000     1.000000       1.000000    69.000000   1300.000000   \n",
       "25%     8450.000000    44.000000   43000.000000    90.000000   1400.000000   \n",
       "50%     9900.000000    61.000000   63451.000000   110.000000   1600.000000   \n",
       "75%    11950.000000    70.000000   87041.500000   110.000000   1600.000000   \n",
       "max    32500.000000    80.000000  243000.000000   192.000000  16000.000000   \n",
       "\n",
       "             Doors        Gears  Quarterly_Tax       Weight  \n",
       "count  1435.000000  1435.000000    1435.000000  1435.000000  \n",
       "mean      4.032753     5.026481      87.020209  1072.287108  \n",
       "std       0.952667     0.188575      40.959588    52.251882  \n",
       "min       2.000000     3.000000      19.000000  1000.000000  \n",
       "25%       3.000000     5.000000      69.000000  1040.000000  \n",
       "50%       4.000000     5.000000      85.000000  1070.000000  \n",
       "75%       5.000000     5.000000      85.000000  1085.000000  \n",
       "max       5.000000     6.000000     283.000000  1615.000000  "
      ]
     },
     "execution_count": 100,
     "metadata": {},
     "output_type": "execute_result"
    }
   ],
   "source": [
    "corolla.describe()                                                  "
   ]
  },
  {
   "cell_type": "code",
   "execution_count": 101,
   "id": "1039d64e",
   "metadata": {},
   "outputs": [
    {
     "data": {
      "image/png": "[encoded data removed]",
      "text/plain": [
       "<Figure size 720x720 with 2 Axes>"
      ]
     },
     "metadata": {
      "needs_background": "light"
     },
     "output_type": "display_data"
    }
   ],
   "source": [
    "corelation = corolla.corr()\n",
    "top_corelation_features = corelation.index\n",
    "plt.figure(figsize=(10,10))\n",
    "#plot heat map\n",
    "g=sns.heatmap(corolla[top_corelation_features].corr(),annot=True,cmap=\"RdYlGn\")"
   ]
  },
  {
   "cell_type": "markdown",
   "id": "aaad74e0",
   "metadata": {},
   "source": [
    "## Scatter Plot "
   ]
  },
  {
   "cell_type": "code",
   "execution_count": 102,
   "id": "01629b04",
   "metadata": {},
   "outputs": [
    {
     "data": {
      "text/plain": [
       "Text(0.5, 1.0, 'Age_08_04 vs Price')"
      ]
     },
     "execution_count": 102,
     "metadata": {},
     "output_type": "execute_result"
    },
    {
     "data": {
      "image/png": "[encoded data removed]",
      "text/plain": [
       "<Figure size 720x432 with 1 Axes>"
      ]
     },
     "metadata": {
      "needs_background": "light"
     },
     "output_type": "display_data"
    }
   ],
   "source": [
    "plt.figure(figsize=(10,6))\n",
    "sns.scatterplot(x='Age_08_04',y='Price',data=corolla)\n",
    "plt.title('Age_08_04 vs Price')"
   ]
  },
  {
   "cell_type": "code",
   "execution_count": 103,
   "id": "5f2ca15e",
   "metadata": {},
   "outputs": [
    {
     "data": {
      "text/plain": [
       "Text(0.5, 1.0, 'Weight vs Price')"
      ]
     },
     "execution_count": 103,
     "metadata": {},
     "output_type": "execute_result"
    },
    {
     "data": {
      "image/png": "[encoded data removed]",
      "text/plain": [
       "<Figure size 720x432 with 1 Axes>"
      ]
     },
     "metadata": {
      "needs_background": "light"
     },
     "output_type": "display_data"
    }
   ],
   "source": [
    "plt.figure(figsize=(10,6))\n",
    "sns.scatterplot(x='Weight',y='Price',data=corolla)\n",
    "plt.title('Weight vs Price')"
   ]
  },
  {
   "cell_type": "markdown",
   "id": "348bafdc",
   "metadata": {},
   "source": [
    "## Lm plot for linearity"
   ]
  },
  {
   "cell_type": "code",
   "execution_count": 104,
   "id": "80286487",
   "metadata": {},
   "outputs": [
    {
     "data": {
      "image/png": "[encoded data removed]",
      "text/plain": [
       "<Figure size 360x360 with 1 Axes>"
      ]
     },
     "metadata": {
      "needs_background": "light"
     },
     "output_type": "display_data"
    }
   ],
   "source": [
    "sns.lmplot(x='Age_08_04',y='Price',data=corolla)\n",
    "plt.title('lm plot')\n",
    "plt.show()"
   ]
  },
  {
   "cell_type": "code",
   "execution_count": 105,
   "id": "07306779",
   "metadata": {},
   "outputs": [
    {
     "data": {
      "image/png": "[encoded data removed]",
      "text/plain": [
       "<Figure size 360x360 with 1 Axes>"
      ]
     },
     "metadata": {
      "needs_background": "light"
     },
     "output_type": "display_data"
    }
   ],
   "source": [
    "sns.lmplot(x='Weight',y='Price',data=corolla)\n",
    "plt.title('lm plot')\n",
    "plt.show()"
   ]
  },
  {
   "cell_type": "markdown",
   "id": "bee14cb2",
   "metadata": {},
   "source": [
    "# 6. <u>Data Preparation -  "
   ]
  },
  {
   "cell_type": "code",
   "execution_count": 106,
   "id": "931a28c8",
   "metadata": {},
   "outputs": [],
   "source": [
    "x = corolla.drop('Price',axis=1)\n",
    "y = corolla[['Price']]"
   ]
  },
  {
   "cell_type": "markdown",
   "id": "6ea69c5f",
   "metadata": {},
   "source": [
    "# 7. <u>Model Building By sklearn library -  "
   ]
  },
  {
   "cell_type": "code",
   "execution_count": 107,
   "id": "3a3755d5",
   "metadata": {},
   "outputs": [],
   "source": [
    "x = corolla.drop(labels='Price',axis=1)\n",
    "y = corolla['Price']"
   ]
  },
  {
   "cell_type": "code",
   "execution_count": 108,
   "id": "218b1920",
   "metadata": {},
   "outputs": [],
   "source": [
    "from sklearn.model_selection import train_test_split\n",
    "\n",
    "x_train,x_test,y_train,y_test = train_test_split(x,y,test_size=0.20,random_state=12)"
   ]
  },
  {
   "cell_type": "markdown",
   "id": "e25b8766",
   "metadata": {},
   "source": [
    "## <u>Training -  "
   ]
  },
  {
   "cell_type": "code",
   "execution_count": 109,
   "id": "dd895fe2",
   "metadata": {},
   "outputs": [
    {
     "data": {
      "text/plain": [
       "LinearRegression()"
      ]
     },
     "execution_count": 109,
     "metadata": {},
     "output_type": "execute_result"
    }
   ],
   "source": [
    "from sklearn.linear_model import LinearRegression\n",
    "\n",
    "linear_model = LinearRegression()\n",
    "linear_model.fit(x_train,y_train)"
   ]
  },
  {
   "cell_type": "markdown",
   "id": "6d888040",
   "metadata": {},
   "source": [
    "## <u>Testing -  "
   ]
  },
  {
   "cell_type": "code",
   "execution_count": 110,
   "id": "adfe0173",
   "metadata": {},
   "outputs": [],
   "source": [
    "y_pred_train = linear_model.predict(x_train)\n",
    "y_pred_test = linear_model.predict(x_test)"
   ]
  },
  {
   "cell_type": "markdown",
   "id": "54bd1156",
   "metadata": {},
   "source": [
    "## <u>Model Evaluation - "
   ]
  },
  {
   "cell_type": "code",
   "execution_count": 111,
   "id": "26353728",
   "metadata": {},
   "outputs": [],
   "source": [
    "from sklearn.metrics import mean_squared_error,r2_score"
   ]
  },
  {
   "cell_type": "code",
   "execution_count": 112,
   "id": "1528c87a",
   "metadata": {},
   "outputs": [
    {
     "name": "stdout",
     "output_type": "stream",
     "text": [
      "mse for train is  1780392.446058354\n",
      "mse for test is  1857151.907460018\n",
      "r2_score for train is  0.860240558229518\n",
      "r2_score for test is  0.8682311109449776\n"
     ]
    }
   ],
   "source": [
    "print('mse for train is ',mean_squared_error(y_train,y_pred_train))\n",
    "print('mse for test is ',mean_squared_error(y_test,y_pred_test))\n",
    "print('r2_score for train is ',r2_score(y_train,y_pred_train))\n",
    "print('r2_score for test is ',r2_score(y_test,y_pred_test))"
   ]
  },
  {
   "cell_type": "markdown",
   "id": "8e99f4f0",
   "metadata": {},
   "source": [
    "## <u>StandardScaler Transformation "
   ]
  },
  {
   "cell_type": "code",
   "execution_count": 116,
   "id": "d772a8b8",
   "metadata": {},
   "outputs": [
    {
     "data": {
      "text/html": [
       "<div>\n",
       "<style scoped>\n",
       "    .dataframe tbody tr th:only-of-type {\n",
       "        vertical-align: middle;\n",
       "    }\n",
       "\n",
       "    .dataframe tbody tr th {\n",
       "        vertical-align: top;\n",
       "    }\n",
       "\n",
       "    .dataframe thead th {\n",
       "        text-align: right;\n",
       "    }\n",
       "</style>\n",
       "<table border=\"1\" class=\"dataframe\">\n",
       "  <thead>\n",
       "    <tr style=\"text-align: right;\">\n",
       "      <th></th>\n",
       "      <th>Age_08_04</th>\n",
       "      <th>KM</th>\n",
       "      <th>HP</th>\n",
       "      <th>cc</th>\n",
       "      <th>Doors</th>\n",
       "      <th>Gears</th>\n",
       "      <th>Quarterly_Tax</th>\n",
       "      <th>Weight</th>\n",
       "    </tr>\n",
       "  </thead>\n",
       "  <tbody>\n",
       "    <tr>\n",
       "      <th>0</th>\n",
       "      <td>-1.777268</td>\n",
       "      <td>-0.575958</td>\n",
       "      <td>-0.767351</td>\n",
       "      <td>0.998113</td>\n",
       "      <td>-1.084443</td>\n",
       "      <td>-0.140475</td>\n",
       "      <td>3.003513</td>\n",
       "      <td>1.774964</td>\n",
       "    </tr>\n",
       "    <tr>\n",
       "      <th>1</th>\n",
       "      <td>-1.777268</td>\n",
       "      <td>0.116474</td>\n",
       "      <td>-0.767351</td>\n",
       "      <td>0.998113</td>\n",
       "      <td>-1.084443</td>\n",
       "      <td>-0.140475</td>\n",
       "      <td>3.003513</td>\n",
       "      <td>1.774964</td>\n",
       "    </tr>\n",
       "    <tr>\n",
       "      <th>2</th>\n",
       "      <td>-1.723380</td>\n",
       "      <td>-0.716707</td>\n",
       "      <td>-0.767351</td>\n",
       "      <td>0.998113</td>\n",
       "      <td>-1.084443</td>\n",
       "      <td>-0.140475</td>\n",
       "      <td>3.003513</td>\n",
       "      <td>1.774964</td>\n",
       "    </tr>\n",
       "    <tr>\n",
       "      <th>3</th>\n",
       "      <td>-1.615603</td>\n",
       "      <td>-0.548902</td>\n",
       "      <td>-0.767351</td>\n",
       "      <td>0.998113</td>\n",
       "      <td>-1.084443</td>\n",
       "      <td>-0.140475</td>\n",
       "      <td>3.003513</td>\n",
       "      <td>1.774964</td>\n",
       "    </tr>\n",
       "    <tr>\n",
       "      <th>4</th>\n",
       "      <td>-1.400049</td>\n",
       "      <td>-0.802384</td>\n",
       "      <td>-0.767351</td>\n",
       "      <td>0.998113</td>\n",
       "      <td>-1.084443</td>\n",
       "      <td>-0.140475</td>\n",
       "      <td>3.003513</td>\n",
       "      <td>1.870688</td>\n",
       "    </tr>\n",
       "    <tr>\n",
       "      <th>...</th>\n",
       "      <td>...</td>\n",
       "      <td>...</td>\n",
       "      <td>...</td>\n",
       "      <td>...</td>\n",
       "      <td>...</td>\n",
       "      <td>...</td>\n",
       "      <td>...</td>\n",
       "      <td>...</td>\n",
       "    </tr>\n",
       "    <tr>\n",
       "      <th>1430</th>\n",
       "      <td>0.701602</td>\n",
       "      <td>-1.281492</td>\n",
       "      <td>-1.034441</td>\n",
       "      <td>-0.651898</td>\n",
       "      <td>-1.084443</td>\n",
       "      <td>-0.140475</td>\n",
       "      <td>-0.440104</td>\n",
       "      <td>-0.905299</td>\n",
       "    </tr>\n",
       "    <tr>\n",
       "      <th>1431</th>\n",
       "      <td>0.863267</td>\n",
       "      <td>-1.322689</td>\n",
       "      <td>-1.034441</td>\n",
       "      <td>-0.651898</td>\n",
       "      <td>-1.084443</td>\n",
       "      <td>-0.140475</td>\n",
       "      <td>-0.440104</td>\n",
       "      <td>-1.096747</td>\n",
       "    </tr>\n",
       "    <tr>\n",
       "      <th>1432</th>\n",
       "      <td>0.809379</td>\n",
       "      <td>-1.375627</td>\n",
       "      <td>-1.034441</td>\n",
       "      <td>-0.651898</td>\n",
       "      <td>-1.084443</td>\n",
       "      <td>-0.140475</td>\n",
       "      <td>-0.440104</td>\n",
       "      <td>-1.096747</td>\n",
       "    </tr>\n",
       "    <tr>\n",
       "      <th>1433</th>\n",
       "      <td>0.755490</td>\n",
       "      <td>-1.378295</td>\n",
       "      <td>-1.034441</td>\n",
       "      <td>-0.651898</td>\n",
       "      <td>-1.084443</td>\n",
       "      <td>-0.140475</td>\n",
       "      <td>-0.440104</td>\n",
       "      <td>-1.096747</td>\n",
       "    </tr>\n",
       "    <tr>\n",
       "      <th>1434</th>\n",
       "      <td>1.078821</td>\n",
       "      <td>-1.829626</td>\n",
       "      <td>0.568103</td>\n",
       "      <td>0.055249</td>\n",
       "      <td>1.015659</td>\n",
       "      <td>-0.140475</td>\n",
       "      <td>-1.661245</td>\n",
       "      <td>0.798582</td>\n",
       "    </tr>\n",
       "  </tbody>\n",
       "</table>\n",
       "<p>1435 rows × 8 columns</p>\n",
       "</div>"
      ],
      "text/plain": [
       "      Age_08_04        KM        HP        cc     Doors     Gears  \\\n",
       "0     -1.777268 -0.575958 -0.767351  0.998113 -1.084443 -0.140475   \n",
       "1     -1.777268  0.116474 -0.767351  0.998113 -1.084443 -0.140475   \n",
       "2     -1.723380 -0.716707 -0.767351  0.998113 -1.084443 -0.140475   \n",
       "3     -1.615603 -0.548902 -0.767351  0.998113 -1.084443 -0.140475   \n",
       "4     -1.400049 -0.802384 -0.767351  0.998113 -1.084443 -0.140475   \n",
       "...         ...       ...       ...       ...       ...       ...   \n",
       "1430   0.701602 -1.281492 -1.034441 -0.651898 -1.084443 -0.140475   \n",
       "1431   0.863267 -1.322689 -1.034441 -0.651898 -1.084443 -0.140475   \n",
       "1432   0.809379 -1.375627 -1.034441 -0.651898 -1.084443 -0.140475   \n",
       "1433   0.755490 -1.378295 -1.034441 -0.651898 -1.084443 -0.140475   \n",
       "1434   1.078821 -1.829626  0.568103  0.055249  1.015659 -0.140475   \n",
       "\n",
       "      Quarterly_Tax    Weight  \n",
       "0          3.003513  1.774964  \n",
       "1          3.003513  1.774964  \n",
       "2          3.003513  1.774964  \n",
       "3          3.003513  1.774964  \n",
       "4          3.003513  1.870688  \n",
       "...             ...       ...  \n",
       "1430      -0.440104 -0.905299  \n",
       "1431      -0.440104 -1.096747  \n",
       "1432      -0.440104 -1.096747  \n",
       "1433      -0.440104 -1.096747  \n",
       "1434      -1.661245  0.798582  \n",
       "\n",
       "[1435 rows x 8 columns]"
      ]
     },
     "execution_count": 116,
     "metadata": {},
     "output_type": "execute_result"
    }
   ],
   "source": [
    "from sklearn.preprocessing import StandardScaler\n",
    "\n",
    "std_scaler = StandardScaler()\n",
    "x_scaled = std_scaler.fit_transform(x)\n",
    "x_scaled = pd.DataFrame(data=x_scaled,columns = x.columns)\n",
    "x_scaled"
   ]
  },
  {
   "cell_type": "code",
   "execution_count": 117,
   "id": "c2c81a74",
   "metadata": {},
   "outputs": [],
   "source": [
    "x_scaled_train,x_scaled_test,y_train,y_test = train_test_split(x_scaled,y,test_size=0.20,random_state=12)"
   ]
  },
  {
   "cell_type": "markdown",
   "id": "ad118dff",
   "metadata": {},
   "source": [
    "## <u>Training -  "
   ]
  },
  {
   "cell_type": "code",
   "execution_count": 118,
   "id": "ef56e7eb",
   "metadata": {},
   "outputs": [
    {
     "data": {
      "text/plain": [
       "LinearRegression()"
      ]
     },
     "execution_count": 118,
     "metadata": {},
     "output_type": "execute_result"
    }
   ],
   "source": [
    "linear_model = LinearRegression()\n",
    "linear_model.fit(x_scaled_train,y_train)"
   ]
  },
  {
   "cell_type": "markdown",
   "id": "da4e5310",
   "metadata": {},
   "source": [
    "## <u>Testing -  "
   ]
  },
  {
   "cell_type": "code",
   "execution_count": 119,
   "id": "bf4558dc",
   "metadata": {},
   "outputs": [],
   "source": [
    "y_pred_train = linear_model.predict(x_scaled_train)\n",
    "y_pred_test = linear_model.predict(x_scaled_test)"
   ]
  },
  {
   "cell_type": "markdown",
   "id": "efb435ac",
   "metadata": {},
   "source": [
    "## <u>Model Evaluation - "
   ]
  },
  {
   "cell_type": "code",
   "execution_count": 120,
   "id": "6402225b",
   "metadata": {},
   "outputs": [
    {
     "name": "stdout",
     "output_type": "stream",
     "text": [
      "mse for train is  1780392.4460583539\n",
      "mse for test is  1857151.9074600213\n",
      "r2_score for train is  0.860240558229518\n",
      "r2_score for test is  0.8682311109449774\n"
     ]
    }
   ],
   "source": [
    "print('mse for train is ',mean_squared_error(y_train,y_pred_train))\n",
    "print('mse for test is ',mean_squared_error(y_test,y_pred_test))\n",
    "print('r2_score for train is ',r2_score(y_train,y_pred_train))\n",
    "print('r2_score for test is ',r2_score(y_test,y_pred_test))"
   ]
  },
  {
   "cell_type": "markdown",
   "id": "9b9c4ee9",
   "metadata": {},
   "source": [
    "# 8. <u>Model Optimization - "
   ]
  },
  {
   "cell_type": "code",
   "execution_count": 125,
   "id": "9a88d117",
   "metadata": {},
   "outputs": [],
   "source": [
    "diff_methods = (('Price ~ Age_08_04 + KM + HP + cc + Doors + Gears + Quarterly_Tax + Weight'),\n",
    "               ('Price ~ Age_08_04 + KM + HP + cc + Doors + Gears + Quarterly_Tax'),\n",
    "               ('Price ~ Age_08_04 + KM + HP + cc + Doors + Gears + Weight'),\n",
    "               ('Price ~ Age_08_04 + KM + HP + cc + Doors + Quarterly_Tax + Weight'),\n",
    "               ('Price ~ Age_08_04 + KM + HP + cc + Gears + Quarterly_Tax + Weight'),\n",
    "               ('Price ~ Age_08_04 + KM + HP + Doors + Gears + Quarterly_Tax + Weight'),\n",
    "               ('Price ~ Age_08_04 + KM + cc + Doors + Gears + Quarterly_Tax + Weight'),\n",
    "               ('Price ~ HP + cc + Doors + Gears + Quarterly_Tax + Weight'),\n",
    "               ('Price ~ Age_08_04'),('Price~KM'),('Price ~ HP'),('Price ~ cc'),('Price ~ Doors'),\n",
    "               ('Price ~ Gears'),('Price ~ Quarterly_Tax'),('Price ~ Weight'))"
   ]
  },
  {
   "cell_type": "code",
   "execution_count": 126,
   "id": "66160d56",
   "metadata": {},
   "outputs": [],
   "source": [
    "import statsmodels.formula.api as smf"
   ]
  },
  {
   "cell_type": "code",
   "execution_count": 128,
   "id": "d150a06a",
   "metadata": {
    "scrolled": false
   },
   "outputs": [
    {
     "name": "stdout",
     "output_type": "stream",
     "text": [
      "Price ~ Age_08_04 + KM + HP + cc + Doors + Gears + Quarterly_Tax + Weight\n",
      "Intercept       -5472.540368\n",
      "Age_08_04        -121.713891\n",
      "KM                 -0.020737\n",
      "HP                 31.584612\n",
      "cc                 -0.118558\n",
      "Doors              -0.920189\n",
      "Gears             597.715894\n",
      "Quarterly_Tax       3.858805\n",
      "Weight             16.855470\n",
      "dtype: float64\n",
      "\n",
      "pvalue is:\n",
      "           index              0\n",
      "0      Intercept   1.113392e-04\n",
      "1      Age_08_04  1.879217e-288\n",
      "2             KM   1.994713e-56\n",
      "3             HP   5.211155e-28\n",
      "4             cc   1.882393e-01\n",
      "5          Doors   9.816443e-01\n",
      "6          Gears   2.452430e-03\n",
      "7  Quarterly_Tax   3.290363e-03\n",
      "8         Weight   1.031118e-51\n",
      "\n",
      "cc is an insignificant feature, since pvalue 0.18823933719307473 is greater than 0.05\n",
      "\n",
      "Doors is an insignificant feature, since pvalue 0.9816443126769604 is greater than 0.05\n",
      "\n",
      "aic value is:  24750.407207346932\n",
      "rsqaure value is:  0.8625200256947\n",
      "_____________________________________________________________________________________________________\n",
      "Price ~ Age_08_04 + KM + HP + cc + Doors + Gears + Quarterly_Tax\n",
      "Intercept        9990.346944\n",
      "Age_08_04        -136.329989\n",
      "KM                 -0.019954\n",
      "HP                 43.299681\n",
      "cc                  0.108511\n",
      "Doors             157.501801\n",
      "Gears             625.417056\n",
      "Quarterly_Tax      15.929782\n",
      "dtype: float64\n",
      "\n",
      "pvalue is:\n",
      "           index             0\n",
      "0      Intercept  3.508211e-19\n",
      "1      Age_08_04  0.000000e+00\n",
      "2             KM  9.698798e-46\n",
      "3             HP  1.062529e-45\n",
      "4             cc  2.600082e-01\n",
      "5          Doors  1.790839e-04\n",
      "6          Gears  3.428430e-03\n",
      "7  Quarterly_Tax  6.714076e-41\n",
      "\n",
      "cc is an insignificant feature, since pvalue 0.2600082088720209 is greater than 0.05\n",
      "\n",
      "aic value is:  24978.840477013637\n",
      "rsqaure value is:  0.8385720455246246\n",
      "_____________________________________________________________________________________________________\n",
      "Price ~ Age_08_04 + KM + HP + cc + Doors + Gears + Weight\n",
      "Intercept   -6969.475565\n",
      "Age_08_04    -122.280385\n",
      "KM             -0.019804\n",
      "HP             28.455824\n",
      "cc             -0.086181\n",
      "Doors          -9.700086\n",
      "Gears         623.450571\n",
      "Weight         18.695459\n",
      "dtype: float64\n",
      "\n",
      "pvalue is:\n",
      "       index              0\n",
      "0  Intercept   1.524874e-07\n",
      "1  Age_08_04  2.829516e-290\n",
      "2         KM   6.982223e-55\n",
      "3         HP   1.603198e-26\n",
      "4         cc   3.364292e-01\n",
      "5      Doors   8.083501e-01\n",
      "6      Gears   1.611598e-03\n",
      "7     Weight   6.157002e-89\n",
      "\n",
      "cc is an insignificant feature, since pvalue 0.33642924292570775 is greater than 0.05\n",
      "\n",
      "Doors is an insignificant feature, since pvalue 0.8083501208389765 is greater than 0.05\n",
      "\n",
      "aic value is:  24757.10380993599\n",
      "rsqaure value is:  0.8616843191204749\n",
      "_____________________________________________________________________________________________________\n",
      "Price ~ Age_08_04 + KM + HP + cc + Doors + Quarterly_Tax + Weight\n",
      "Intercept       -2636.384329\n",
      "Age_08_04        -121.847802\n",
      "KM                 -0.020454\n",
      "HP                 33.647877\n",
      "cc                 -0.122677\n",
      "Doors             -23.980630\n",
      "Quarterly_Tax       4.035301\n",
      "Weight             16.884429\n",
      "dtype: float64\n",
      "\n",
      "pvalue is:\n",
      "           index              0\n",
      "0      Intercept   1.313394e-02\n",
      "1      Age_08_04  6.480986e-288\n",
      "2             KM   4.646226e-55\n",
      "3             HP   5.622551e-33\n",
      "4             cc   1.745423e-01\n",
      "5          Doors   5.425721e-01\n",
      "6  Quarterly_Tax   2.158809e-03\n",
      "7         Weight   1.297391e-51\n",
      "\n",
      "cc is an insignificant feature, since pvalue 0.17454225846633853 is greater than 0.05\n",
      "\n",
      "Doors is an insignificant feature, since pvalue 0.5425721117072613 is greater than 0.05\n",
      "\n",
      "aic value is:  24757.644103864768\n",
      "rsqaure value is:  0.861632231877993\n",
      "_____________________________________________________________________________________________________\n",
      "Price ~ Age_08_04 + KM + HP + cc + Gears + Quarterly_Tax + Weight\n",
      "Intercept       -5473.681155\n",
      "Age_08_04        -121.713712\n",
      "KM                 -0.020738\n",
      "HP                 31.580006\n",
      "cc                 -0.118524\n",
      "Gears             598.577251\n",
      "Quarterly_Tax       3.861054\n",
      "Weight             16.849284\n",
      "dtype: float64\n",
      "\n",
      "pvalue is:\n",
      "           index              0\n",
      "0      Intercept   1.092917e-04\n",
      "1      Age_08_04  1.180642e-288\n",
      "2             KM   1.639817e-56\n",
      "3             HP   3.781194e-28\n",
      "4             cc   1.881516e-01\n",
      "5          Gears   1.996828e-03\n",
      "6  Quarterly_Tax   3.176180e-03\n",
      "7         Weight   8.262172e-55\n",
      "\n",
      "cc is an insignificant feature, since pvalue 0.18815164948505597 is greater than 0.05\n",
      "\n",
      "aic value is:  24748.40774021839\n",
      "rsqaure value is:  0.8625199746430149\n",
      "_____________________________________________________________________________________________________\n",
      "Price ~ Age_08_04 + KM + HP + Doors + Gears + Quarterly_Tax + Weight\n",
      "Intercept       -5377.434314\n",
      "Age_08_04        -121.755477\n",
      "KM                 -0.020854\n",
      "HP                 31.240272\n",
      "Doors              -0.065703\n",
      "Gears             601.624286\n",
      "Quarterly_Tax       3.648127\n",
      "Weight             16.630244\n",
      "dtype: float64\n",
      "\n",
      "pvalue is:\n",
      "           index              0\n",
      "0      Intercept   1.437510e-04\n",
      "1      Age_08_04  1.396994e-288\n",
      "2             KM   3.195753e-57\n",
      "3             HP   1.154304e-27\n",
      "4          Doors   9.986894e-01\n",
      "5          Gears   2.300163e-03\n",
      "6  Quarterly_Tax   5.120097e-03\n",
      "7         Weight   1.200737e-51\n",
      "\n",
      "Doors is an insignificant feature, since pvalue 0.9986894278540043 is greater than 0.05\n",
      "\n",
      "aic value is:  24750.150089502546\n",
      "rsqaure value is:  0.8623529476715985\n",
      "_____________________________________________________________________________________________________\n",
      "Price ~ Age_08_04 + KM + cc + Doors + Gears + Quarterly_Tax + Weight\n",
      "Intercept       -8003.469231\n",
      "Age_08_04        -120.562600\n",
      "KM                 -0.023528\n",
      "cc                 -0.024838\n",
      "Doors              30.922111\n",
      "Gears            1130.524728\n",
      "Quarterly_Tax      -1.682462\n",
      "Weight             20.018116\n",
      "dtype: float64\n",
      "\n",
      "pvalue is:\n",
      "           index              0\n",
      "0      Intercept   4.349596e-08\n",
      "1      Age_08_04  5.510881e-270\n",
      "2             KM   7.433961e-68\n",
      "3             cc   7.905629e-01\n",
      "4          Doors   4.573338e-01\n",
      "5          Gears   1.707797e-08\n",
      "6  Quarterly_Tax   1.839915e-01\n",
      "7         Weight   2.244199e-69\n",
      "\n",
      "cc is an insignificant feature, since pvalue 0.7905628966486701 is greater than 0.05\n",
      "\n",
      "Doors is an insignificant feature, since pvalue 0.4573338330574349 is greater than 0.05\n",
      "\n",
      "Quarterly_Tax is an insignificant feature, since pvalue 0.18399148927104625 is greater than 0.05\n",
      "\n",
      "aic value is:  24869.593789166312\n",
      "rsqaure value is:  0.8504054185322638\n",
      "_____________________________________________________________________________________________________\n",
      "Price ~ HP + cc + Doors + Gears + Quarterly_Tax + Weight\n",
      "Intercept       -40579.707159\n",
      "HP                  56.286465\n",
      "cc                  -0.585374\n",
      "Doors              -61.278586\n",
      "Gears              -16.402333\n",
      "Quarterly_Tax       -8.330622\n",
      "Weight              44.358806\n",
      "dtype: float64\n",
      "\n",
      "pvalue is:\n",
      "           index             0\n",
      "0      Intercept  3.083924e-48\n",
      "1             HP  2.243074e-22\n",
      "2             cc  1.621804e-03\n",
      "3          Doors  4.583846e-01\n",
      "4          Gears  9.677701e-01\n",
      "5  Quarterly_Tax  1.462059e-03\n",
      "6         Weight  8.368363e-92\n",
      "\n",
      "Doors is an insignificant feature, since pvalue 0.4583845932254057 is greater than 0.05\n",
      "\n",
      "Gears is an insignificant feature, since pvalue 0.9677701393760072 is greater than 0.05\n",
      "\n",
      "aic value is:  26832.576500640444\n",
      "rsqaure value is:  0.4116895551000018\n",
      "_____________________________________________________________________________________________________\n",
      "Price ~ Age_08_04\n",
      "Intercept    20257.120773\n",
      "Age_08_04     -170.348732\n",
      "dtype: float64\n",
      "\n",
      "pvalue is:\n",
      "       index    0\n",
      "0  Intercept  0.0\n",
      "1  Age_08_04  0.0\n",
      "\n",
      "aic value is:  25488.18038953394\n",
      "rsqaure value is:  0.7678550373053038\n",
      "_____________________________________________________________________________________________________\n",
      "Price~KM\n",
      "Intercept    14479.328454\n",
      "KM              -0.054810\n",
      "dtype: float64\n",
      "\n",
      "pvalue is:\n",
      "       index              0\n",
      "0  Intercept   0.000000e+00\n",
      "1         KM  4.117214e-124\n",
      "\n",
      "aic value is:  27021.446218150162\n",
      "rsqaure value is:  0.32423867438267795\n",
      "_____________________________________________________________________________________________________\n",
      "Price ~ HP\n",
      "Intercept    3041.131798\n",
      "HP             75.668870\n",
      "dtype: float64\n"
     ]
    },
    {
     "name": "stdout",
     "output_type": "stream",
     "text": [
      "\n",
      "pvalue is:\n",
      "       index             0\n",
      "0  Intercept  1.031004e-06\n",
      "1         HP  3.123394e-34\n",
      "\n",
      "aic value is:  27434.75510656108\n",
      "rsqaure value is:  0.09868025156106075\n",
      "_____________________________________________________________________________________________________\n",
      "Price ~ cc\n",
      "Intercept    9053.536789\n",
      "cc              1.057605\n",
      "dtype: float64\n",
      "\n",
      "pvalue is:\n",
      "       index              0\n",
      "0  Intercept  7.236022e-114\n",
      "1         cc   2.292856e-06\n",
      "\n",
      "aic value is:  27561.473196759664\n",
      "rsqaure value is:  0.01546901962024072\n",
      "_____________________________________________________________________________________________________\n",
      "Price ~ Doors\n",
      "Intercept    7916.145233\n",
      "Doors         695.497769\n",
      "dtype: float64\n",
      "\n",
      "pvalue is:\n",
      "       index             0\n",
      "0  Intercept  8.976407e-75\n",
      "1      Doors  2.404166e-12\n",
      "\n",
      "aic value is:  27534.636141744002\n",
      "rsqaure value is:  0.0337103971233893\n",
      "_____________________________________________________________________________________________________\n",
      "Price ~ Gears\n",
      "Intercept    4580.934774\n",
      "Gears        1221.526771\n",
      "dtype: float64\n",
      "\n",
      "pvalue is:\n",
      "       index         0\n",
      "0  Intercept  0.071254\n",
      "1      Gears  0.015590\n",
      "\n",
      "aic value is:  27577.98600896268\n",
      "rsqaure value is:  0.004074404058589276\n",
      "_____________________________________________________________________________________________________\n",
      "Price ~ Quarterly_Tax\n",
      "Intercept        9099.308617\n",
      "Quarterly_Tax      18.634833\n",
      "dtype: float64\n",
      "\n",
      "pvalue is:\n",
      "           index              0\n",
      "0      Intercept  1.214615e-248\n",
      "1  Quarterly_Tax   5.633141e-16\n",
      "\n",
      "aic value is:  27518.168998670084\n",
      "rsqaure value is:  0.044735539443015226\n",
      "_____________________________________________________________________________________________________\n",
      "Price ~ Weight\n",
      "Intercept   -31926.026925\n",
      "Weight          39.771944\n",
      "dtype: float64\n",
      "\n",
      "pvalue is:\n",
      "       index              0\n",
      "0  Intercept   2.951487e-78\n",
      "1     Weight  1.547077e-127\n",
      "\n",
      "aic value is:  27005.673537287108\n",
      "rsqaure value is:  0.33162557708698126\n",
      "_____________________________________________________________________________________________________\n"
     ]
    }
   ],
   "source": [
    "for model in diff_methods:\n",
    "    models=smf.ols(model,data=corolla).fit()\n",
    "    print(model)\n",
    "    \n",
    "    params=models.params\n",
    "    print(params)\n",
    "    \n",
    "    pvalue=models.pvalues\n",
    "    pvalue_data=pvalue.to_frame()\n",
    "    pvalue_data.reset_index(inplace=True)\n",
    "    pvalue_data.rename({'index':'features'},axis=1)\n",
    "    print('')\n",
    "    print('pvalue is:')\n",
    "    print(pvalue_data)\n",
    "    \n",
    "    for i in range(len(pvalue_data)):\n",
    "        if i!=0:\n",
    "            if pvalue_data.iloc[i,1]>0.05:\n",
    "                print('')\n",
    "                print('{} is an insignificant feature, since pvalue {} is greater than 0.05'\n",
    "                  .format(pvalue_data.iloc[i,0],pvalue_data.iloc[i,1]))\n",
    "    print('')\n",
    "    print('aic value is: ',models.aic)\n",
    "    print('rsqaure value is: ',models.rsquared)\n",
    "    print('_____________________________________________________________________________________________________')"
   ]
  },
  {
   "cell_type": "markdown",
   "id": "a07a8553",
   "metadata": {},
   "source": [
    "## <u>Calculating variance influence factor - "
   ]
  },
  {
   "cell_type": "code",
   "execution_count": 131,
   "id": "b8d2fb59",
   "metadata": {},
   "outputs": [],
   "source": [
    "y=corolla['Price']\n",
    "x1=corolla['Age_08_04']\n",
    "x2=corolla['KM']\n",
    "x3=corolla['cc']\n",
    "x4=corolla['Doors']\n",
    "x5=corolla['Gears']\n",
    "x6=corolla['Weight']"
   ]
  },
  {
   "cell_type": "code",
   "execution_count": 134,
   "id": "11577153",
   "metadata": {},
   "outputs": [],
   "source": [
    "import statsmodels.formula.api as smf\n",
    "model=smf.ols(\"y~x1+x2+x3+x4+x5+x6\",data=corolla).fit()"
   ]
  },
  {
   "cell_type": "code",
   "execution_count": 135,
   "id": "82cd6860",
   "metadata": {},
   "outputs": [
    {
     "data": {
      "text/plain": [
       "1    18878.09154\n",
       "dtype: float64"
      ]
     },
     "execution_count": 135,
     "metadata": {},
     "output_type": "execute_result"
    }
   ],
   "source": [
    "newdata=pd.DataFrame({'x1':21,'x2':41711,'x3':1300,'x4':3,'x5':5,'x6':1247},index=[1])\n",
    "model.predict(newdata)"
   ]
  },
  {
   "cell_type": "code",
   "execution_count": 137,
   "id": "2b8b1ed8",
   "metadata": {},
   "outputs": [
    {
     "data": {
      "text/html": [
       "<div>\n",
       "<style scoped>\n",
       "    .dataframe tbody tr th:only-of-type {\n",
       "        vertical-align: middle;\n",
       "    }\n",
       "\n",
       "    .dataframe tbody tr th {\n",
       "        vertical-align: top;\n",
       "    }\n",
       "\n",
       "    .dataframe thead th {\n",
       "        text-align: right;\n",
       "    }\n",
       "</style>\n",
       "<table border=\"1\" class=\"dataframe\">\n",
       "  <thead>\n",
       "    <tr style=\"text-align: right;\">\n",
       "      <th></th>\n",
       "      <th>Variables</th>\n",
       "      <th>VIF</th>\n",
       "    </tr>\n",
       "  </thead>\n",
       "  <tbody>\n",
       "    <tr>\n",
       "      <th>0</th>\n",
       "      <td>x1</td>\n",
       "      <td>1.856245</td>\n",
       "    </tr>\n",
       "    <tr>\n",
       "      <th>1</th>\n",
       "      <td>x2</td>\n",
       "      <td>1.467481</td>\n",
       "    </tr>\n",
       "    <tr>\n",
       "      <th>2</th>\n",
       "      <td>x3</td>\n",
       "      <td>1.143155</td>\n",
       "    </tr>\n",
       "    <tr>\n",
       "      <th>3</th>\n",
       "      <td>x4</td>\n",
       "      <td>1.136210</td>\n",
       "    </tr>\n",
       "    <tr>\n",
       "      <th>4</th>\n",
       "      <td>x5</td>\n",
       "      <td>1.136210</td>\n",
       "    </tr>\n",
       "    <tr>\n",
       "      <th>5</th>\n",
       "      <td>x6</td>\n",
       "      <td>1.136210</td>\n",
       "    </tr>\n",
       "  </tbody>\n",
       "</table>\n",
       "</div>"
      ],
      "text/plain": [
       "  Variables       VIF\n",
       "0        x1  1.856245\n",
       "1        x2  1.467481\n",
       "2        x3  1.143155\n",
       "3        x4  1.136210\n",
       "4        x5  1.136210\n",
       "5        x6  1.136210"
      ]
     },
     "execution_count": 137,
     "metadata": {},
     "output_type": "execute_result"
    }
   ],
   "source": [
    "rsq_x1 = smf.ols('x1~x2+x3+x4+x5+x6',data=corolla).fit().rsquared  \n",
    "vif_x1 = 1/(1-rsq_x1) # 16.33\n",
    "\n",
    "rsq_x2 = smf.ols('x2~x1+x3+x4+x5+x6',data=corolla).fit().rsquared  \n",
    "vif_x2 = 1/(1-rsq_x2) # 564.98\n",
    "\n",
    "rsq_x3 = smf.ols('x3~x2+x1+x4+x5+x6',data=corolla).fit().rsquared  \n",
    "vif_x3 = 1/(1-rsq_x3) #  564.84\n",
    "\n",
    "rsq_x4 = smf.ols('x4~x2+x3+x1+x5+x6',data=corolla).fit().rsquared  \n",
    "vif_x4 = 1/(1-rsq_x4) #  16.35\n",
    "\n",
    "rsq_x5 = smf.ols('x4~x2+x3+x1+x5+x6',data=corolla).fit().rsquared  \n",
    "vif_x5 = 1/(1-rsq_x5) #  16.35\n",
    "\n",
    "rsq_x6 = smf.ols('x4~x2+x3+x1+x5+x6',data=corolla).fit().rsquared  \n",
    "vif_x6 = 1/(1-rsq_x6) #  16.35\n",
    "\n",
    "# Storing vif values in a data frame\n",
    "d1 = {'Variables':['x1','x2','x3','x4','x5','x6'],'VIF':[vif_x1,vif_x2,vif_x3,vif_x4,vif_x5,vif_x6]}\n",
    "Vif_frame = pd.DataFrame(d1)  \n",
    "Vif_frame"
   ]
  },
  {
   "cell_type": "markdown",
   "id": "6e89e913",
   "metadata": {},
   "source": [
    "# <u>Detecting Outliers"
   ]
  },
  {
   "cell_type": "markdown",
   "id": "ca1fdbab",
   "metadata": {},
   "source": [
    "## Cook's distance"
   ]
  },
  {
   "cell_type": "code",
   "execution_count": 155,
   "id": "2bc0e40d",
   "metadata": {
    "scrolled": false
   },
   "outputs": [
    {
     "data": {
      "image/png": "[encoded data removed]",
      "text/plain": [
       "<Figure size 1440x504 with 1 Axes>"
      ]
     },
     "metadata": {
      "needs_background": "light"
     },
     "output_type": "display_data"
    }
   ],
   "source": [
    "model_influence = model.get_influence()\n",
    "(c, _) = model_influence.cooks_distance\n",
    "#Plot the influencers values using stem plot\n",
    "fig = plt.subplots(figsize=(20, 7))\n",
    "plt.stem(np.arange(len(corolla)), np.round(c, 3))\n",
    "plt.xlabel('Row index')\n",
    "plt.ylabel('Cooks Distance')\n",
    "plt.show()"
   ]
  },
  {
   "cell_type": "code",
   "execution_count": 149,
   "id": "7935e0d2",
   "metadata": {},
   "outputs": [
    {
     "data": {
      "text/plain": [
       "(80, 19.376725113203022)"
      ]
     },
     "execution_count": 149,
     "metadata": {},
     "output_type": "execute_result"
    }
   ],
   "source": [
    "(np.argmax(c),np.max(c))"
   ]
  },
  {
   "cell_type": "markdown",
   "id": "4500d4be",
   "metadata": {},
   "source": [
    "The cook's distance clearly shows that the point 80 is an outlier"
   ]
  },
  {
   "cell_type": "markdown",
   "id": "2bb8e2aa",
   "metadata": {},
   "source": [
    "## High Influence plot"
   ]
  },
  {
   "cell_type": "code",
   "execution_count": 158,
   "id": "e1b5f5f0",
   "metadata": {},
   "outputs": [
    {
     "data": {
      "image/png": "[encoded data removed]",
      "text/plain": [
       "<Figure size 432x288 with 1 Axes>"
      ]
     },
     "metadata": {
      "needs_background": "light"
     },
     "output_type": "display_data"
    }
   ],
   "source": [
    "from statsmodels.graphics.regressionplots import influence_plot\n",
    "influence_plot(cook_model)\n",
    "plt.show()"
   ]
  },
  {
   "cell_type": "code",
   "execution_count": 161,
   "id": "decafa33",
   "metadata": {},
   "outputs": [
    {
     "data": {
      "text/html": [
       "<div>\n",
       "<style scoped>\n",
       "    .dataframe tbody tr th:only-of-type {\n",
       "        vertical-align: middle;\n",
       "    }\n",
       "\n",
       "    .dataframe tbody tr th {\n",
       "        vertical-align: top;\n",
       "    }\n",
       "\n",
       "    .dataframe thead th {\n",
       "        text-align: right;\n",
       "    }\n",
       "</style>\n",
       "<table border=\"1\" class=\"dataframe\">\n",
       "  <thead>\n",
       "    <tr style=\"text-align: right;\">\n",
       "      <th></th>\n",
       "      <th>Price</th>\n",
       "      <th>Age_08_04</th>\n",
       "      <th>KM</th>\n",
       "      <th>HP</th>\n",
       "      <th>cc</th>\n",
       "      <th>Doors</th>\n",
       "      <th>Gears</th>\n",
       "      <th>Quarterly_Tax</th>\n",
       "      <th>Weight</th>\n",
       "    </tr>\n",
       "  </thead>\n",
       "  <tbody>\n",
       "    <tr>\n",
       "      <th>80</th>\n",
       "      <td>18950</td>\n",
       "      <td>25</td>\n",
       "      <td>20019</td>\n",
       "      <td>110</td>\n",
       "      <td>16000</td>\n",
       "      <td>5</td>\n",
       "      <td>5</td>\n",
       "      <td>100</td>\n",
       "      <td>1180</td>\n",
       "    </tr>\n",
       "    <tr>\n",
       "      <th>220</th>\n",
       "      <td>12450</td>\n",
       "      <td>44</td>\n",
       "      <td>74172</td>\n",
       "      <td>110</td>\n",
       "      <td>1600</td>\n",
       "      <td>5</td>\n",
       "      <td>5</td>\n",
       "      <td>163</td>\n",
       "      <td>1615</td>\n",
       "    </tr>\n",
       "    <tr>\n",
       "      <th>600</th>\n",
       "      <td>7500</td>\n",
       "      <td>50</td>\n",
       "      <td>1</td>\n",
       "      <td>90</td>\n",
       "      <td>2000</td>\n",
       "      <td>3</td>\n",
       "      <td>5</td>\n",
       "      <td>64</td>\n",
       "      <td>1260</td>\n",
       "    </tr>\n",
       "    <tr>\n",
       "      <th>959</th>\n",
       "      <td>9390</td>\n",
       "      <td>66</td>\n",
       "      <td>50806</td>\n",
       "      <td>86</td>\n",
       "      <td>1300</td>\n",
       "      <td>3</td>\n",
       "      <td>5</td>\n",
       "      <td>19</td>\n",
       "      <td>1480</td>\n",
       "    </tr>\n",
       "  </tbody>\n",
       "</table>\n",
       "</div>"
      ],
      "text/plain": [
       "     Price  Age_08_04     KM   HP     cc  Doors  Gears  Quarterly_Tax  Weight\n",
       "80   18950         25  20019  110  16000      5      5            100    1180\n",
       "220  12450         44  74172  110   1600      5      5            163    1615\n",
       "600   7500         50      1   90   2000      3      5             64    1260\n",
       "959   9390         66  50806   86   1300      3      5             19    1480"
      ]
     },
     "execution_count": 161,
     "metadata": {},
     "output_type": "execute_result"
    }
   ],
   "source": [
    "corolla[corolla.index.isin([80, 600 ,959,220])]"
   ]
  },
  {
   "cell_type": "code",
   "execution_count": 164,
   "id": "38e6fc7b",
   "metadata": {},
   "outputs": [
    {
     "data": {
      "text/html": [
       "<div>\n",
       "<style scoped>\n",
       "    .dataframe tbody tr th:only-of-type {\n",
       "        vertical-align: middle;\n",
       "    }\n",
       "\n",
       "    .dataframe tbody tr th {\n",
       "        vertical-align: top;\n",
       "    }\n",
       "\n",
       "    .dataframe thead th {\n",
       "        text-align: right;\n",
       "    }\n",
       "</style>\n",
       "<table border=\"1\" class=\"dataframe\">\n",
       "  <thead>\n",
       "    <tr style=\"text-align: right;\">\n",
       "      <th></th>\n",
       "      <th>Price</th>\n",
       "      <th>Age_08_04</th>\n",
       "      <th>KM</th>\n",
       "      <th>HP</th>\n",
       "      <th>cc</th>\n",
       "      <th>Doors</th>\n",
       "      <th>Gears</th>\n",
       "      <th>Quarterly_Tax</th>\n",
       "      <th>Weight</th>\n",
       "    </tr>\n",
       "  </thead>\n",
       "  <tbody>\n",
       "    <tr>\n",
       "      <th>0</th>\n",
       "      <td>13500</td>\n",
       "      <td>23</td>\n",
       "      <td>46986</td>\n",
       "      <td>90</td>\n",
       "      <td>2000</td>\n",
       "      <td>3</td>\n",
       "      <td>5</td>\n",
       "      <td>210</td>\n",
       "      <td>1165</td>\n",
       "    </tr>\n",
       "    <tr>\n",
       "      <th>1</th>\n",
       "      <td>13750</td>\n",
       "      <td>23</td>\n",
       "      <td>72937</td>\n",
       "      <td>90</td>\n",
       "      <td>2000</td>\n",
       "      <td>3</td>\n",
       "      <td>5</td>\n",
       "      <td>210</td>\n",
       "      <td>1165</td>\n",
       "    </tr>\n",
       "    <tr>\n",
       "      <th>2</th>\n",
       "      <td>13950</td>\n",
       "      <td>24</td>\n",
       "      <td>41711</td>\n",
       "      <td>90</td>\n",
       "      <td>2000</td>\n",
       "      <td>3</td>\n",
       "      <td>5</td>\n",
       "      <td>210</td>\n",
       "      <td>1165</td>\n",
       "    </tr>\n",
       "    <tr>\n",
       "      <th>3</th>\n",
       "      <td>14950</td>\n",
       "      <td>26</td>\n",
       "      <td>48000</td>\n",
       "      <td>90</td>\n",
       "      <td>2000</td>\n",
       "      <td>3</td>\n",
       "      <td>5</td>\n",
       "      <td>210</td>\n",
       "      <td>1165</td>\n",
       "    </tr>\n",
       "    <tr>\n",
       "      <th>4</th>\n",
       "      <td>13750</td>\n",
       "      <td>30</td>\n",
       "      <td>38500</td>\n",
       "      <td>90</td>\n",
       "      <td>2000</td>\n",
       "      <td>3</td>\n",
       "      <td>5</td>\n",
       "      <td>210</td>\n",
       "      <td>1170</td>\n",
       "    </tr>\n",
       "    <tr>\n",
       "      <th>...</th>\n",
       "      <td>...</td>\n",
       "      <td>...</td>\n",
       "      <td>...</td>\n",
       "      <td>...</td>\n",
       "      <td>...</td>\n",
       "      <td>...</td>\n",
       "      <td>...</td>\n",
       "      <td>...</td>\n",
       "      <td>...</td>\n",
       "    </tr>\n",
       "    <tr>\n",
       "      <th>1430</th>\n",
       "      <td>7500</td>\n",
       "      <td>69</td>\n",
       "      <td>20544</td>\n",
       "      <td>86</td>\n",
       "      <td>1300</td>\n",
       "      <td>3</td>\n",
       "      <td>5</td>\n",
       "      <td>69</td>\n",
       "      <td>1025</td>\n",
       "    </tr>\n",
       "    <tr>\n",
       "      <th>1431</th>\n",
       "      <td>10845</td>\n",
       "      <td>72</td>\n",
       "      <td>19000</td>\n",
       "      <td>86</td>\n",
       "      <td>1300</td>\n",
       "      <td>3</td>\n",
       "      <td>5</td>\n",
       "      <td>69</td>\n",
       "      <td>1015</td>\n",
       "    </tr>\n",
       "    <tr>\n",
       "      <th>1432</th>\n",
       "      <td>8500</td>\n",
       "      <td>71</td>\n",
       "      <td>17016</td>\n",
       "      <td>86</td>\n",
       "      <td>1300</td>\n",
       "      <td>3</td>\n",
       "      <td>5</td>\n",
       "      <td>69</td>\n",
       "      <td>1015</td>\n",
       "    </tr>\n",
       "    <tr>\n",
       "      <th>1433</th>\n",
       "      <td>7250</td>\n",
       "      <td>70</td>\n",
       "      <td>16916</td>\n",
       "      <td>86</td>\n",
       "      <td>1300</td>\n",
       "      <td>3</td>\n",
       "      <td>5</td>\n",
       "      <td>69</td>\n",
       "      <td>1015</td>\n",
       "    </tr>\n",
       "    <tr>\n",
       "      <th>1434</th>\n",
       "      <td>6950</td>\n",
       "      <td>76</td>\n",
       "      <td>1</td>\n",
       "      <td>110</td>\n",
       "      <td>1600</td>\n",
       "      <td>5</td>\n",
       "      <td>5</td>\n",
       "      <td>19</td>\n",
       "      <td>1114</td>\n",
       "    </tr>\n",
       "  </tbody>\n",
       "</table>\n",
       "<p>1431 rows × 9 columns</p>\n",
       "</div>"
      ],
      "text/plain": [
       "      Price  Age_08_04     KM   HP    cc  Doors  Gears  Quarterly_Tax  Weight\n",
       "0     13500         23  46986   90  2000      3      5            210    1165\n",
       "1     13750         23  72937   90  2000      3      5            210    1165\n",
       "2     13950         24  41711   90  2000      3      5            210    1165\n",
       "3     14950         26  48000   90  2000      3      5            210    1165\n",
       "4     13750         30  38500   90  2000      3      5            210    1170\n",
       "...     ...        ...    ...  ...   ...    ...    ...            ...     ...\n",
       "1430   7500         69  20544   86  1300      3      5             69    1025\n",
       "1431  10845         72  19000   86  1300      3      5             69    1015\n",
       "1432   8500         71  17016   86  1300      3      5             69    1015\n",
       "1433   7250         70  16916   86  1300      3      5             69    1015\n",
       "1434   6950         76      1  110  1600      5      5             19    1114\n",
       "\n",
       "[1431 rows x 9 columns]"
      ]
     },
     "execution_count": 164,
     "metadata": {},
     "output_type": "execute_result"
    }
   ],
   "source": [
    "new_corolla = corolla.drop(corolla.index[[80,601,960,221]],axis=0)\n",
    "new_corolla"
   ]
  },
  {
   "cell_type": "markdown",
   "id": "7c217e12",
   "metadata": {},
   "source": [
    "# <u>Final model"
   ]
  },
  {
   "cell_type": "code",
   "execution_count": 165,
   "id": "29de1b24",
   "metadata": {},
   "outputs": [],
   "source": [
    "model_final=smf.ols('Price ~ Age_08_04 + KM +HP + cc + Doors + Gears + Quarterly_Tax + Weight',data=new_corolla).fit()"
   ]
  },
  {
   "cell_type": "code",
   "execution_count": 166,
   "id": "2d6b918b",
   "metadata": {},
   "outputs": [
    {
     "data": {
      "text/plain": [
       "(0.8685597306387955, 24615.31593447238)"
      ]
     },
     "execution_count": 166,
     "metadata": {},
     "output_type": "execute_result"
    }
   ],
   "source": [
    "model_final.rsquared,model_final.aic"
   ]
  },
  {
   "cell_type": "code",
   "execution_count": 167,
   "id": "a35bce61",
   "metadata": {},
   "outputs": [],
   "source": [
    "model_final_door=smf.ols('Price ~ Age_08_04 + KM +HP + cc + Gears + Quarterly_Tax + Weight',data=new_corolla).fit()"
   ]
  },
  {
   "cell_type": "code",
   "execution_count": 168,
   "id": "d86c8cf2",
   "metadata": {},
   "outputs": [
    {
     "data": {
      "text/plain": [
       "(0.8685208981330657, 24613.73864441455)"
      ]
     },
     "execution_count": 168,
     "metadata": {},
     "output_type": "execute_result"
    }
   ],
   "source": [
    "model_final_door.rsquared,model_final_door.aic"
   ]
  },
  {
   "cell_type": "code",
   "execution_count": null,
   "id": "26c0ee1f",
   "metadata": {},
   "outputs": [],
   "source": []
  }
 ],
 "metadata": {
  "kernelspec": {
   "display_name": "Python 3 (ipykernel)",
   "language": "python",
   "name": "python3"
  },
  "language_info": {
   "codemirror_mode": {
    "name": "ipython",
    "version": 3
   },
   "file_extension": ".py",
   "mimetype": "text/x-python",
   "name": "python",
   "nbconvert_exporter": "python",
   "pygments_lexer": "ipython3",
   "version": "3.9.7"
  }
 },
 "nbformat": 4,
 "nbformat_minor": 5
}
