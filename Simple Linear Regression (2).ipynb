{
 "cells": [
  {
   "cell_type": "markdown",
   "id": "9fda2dff",
   "metadata": {},
   "source": [
    "# Q) Build a simple linear regression model by performing EDA and do necessary transformations and select the best model using R or Python. "
   ]
  },
  {
   "cell_type": "markdown",
   "id": "38bb8bd4",
   "metadata": {},
   "source": [
    "## ====================================================================== "
   ]
  },
  {
   "cell_type": "markdown",
   "id": "c61a725f",
   "metadata": {},
   "source": [
    "# 1) Delivery_time -> Predict delivery time using sorting time \n"
   ]
  },
  {
   "cell_type": "markdown",
   "id": "3adedf6e",
   "metadata": {},
   "source": [
    "# 1. <u>Import necessasary libraries - "
   ]
  },
  {
   "cell_type": "code",
   "execution_count": 79,
   "id": "c08bbaca",
   "metadata": {},
   "outputs": [],
   "source": [
    "import pandas as pd\n",
    "\n",
    "from matplotlib import pyplot as plt\n",
    "import seaborn as sns\n",
    "\n",
    "import numpy as np\n",
    "\n",
    "from sklearn.metrics import mean_absolute_error,r2_score,mean_squared_error\n",
    "from sklearn.linear_model import LinearRegression\n",
    "\n",
    "from sklearn.preprocessing import StandardScaler"
   ]
  },
  {
   "cell_type": "markdown",
   "id": "e432c50b",
   "metadata": {},
   "source": [
    "## <u>Import warnings  - "
   ]
  },
  {
   "cell_type": "code",
   "execution_count": 80,
   "id": "d593e1b6",
   "metadata": {},
   "outputs": [],
   "source": [
    "import warnings\n",
    "warnings.filterwarnings('ignore')"
   ]
  },
  {
   "cell_type": "markdown",
   "id": "b86059d6",
   "metadata": {},
   "source": [
    "# 2. <u>Import Data - "
   ]
  },
  {
   "cell_type": "code",
   "execution_count": 81,
   "id": "1c28683d",
   "metadata": {},
   "outputs": [
    {
     "data": {
      "text/html": [
       "<div>\n",
       "<style scoped>\n",
       "    .dataframe tbody tr th:only-of-type {\n",
       "        vertical-align: middle;\n",
       "    }\n",
       "\n",
       "    .dataframe tbody tr th {\n",
       "        vertical-align: top;\n",
       "    }\n",
       "\n",
       "    .dataframe thead th {\n",
       "        text-align: right;\n",
       "    }\n",
       "</style>\n",
       "<table border=\"1\" class=\"dataframe\">\n",
       "  <thead>\n",
       "    <tr style=\"text-align: right;\">\n",
       "      <th></th>\n",
       "      <th>Delivery Time</th>\n",
       "      <th>Sorting Time</th>\n",
       "    </tr>\n",
       "  </thead>\n",
       "  <tbody>\n",
       "    <tr>\n",
       "      <th>0</th>\n",
       "      <td>21.00</td>\n",
       "      <td>10</td>\n",
       "    </tr>\n",
       "    <tr>\n",
       "      <th>1</th>\n",
       "      <td>13.50</td>\n",
       "      <td>4</td>\n",
       "    </tr>\n",
       "    <tr>\n",
       "      <th>2</th>\n",
       "      <td>19.75</td>\n",
       "      <td>6</td>\n",
       "    </tr>\n",
       "    <tr>\n",
       "      <th>3</th>\n",
       "      <td>24.00</td>\n",
       "      <td>9</td>\n",
       "    </tr>\n",
       "    <tr>\n",
       "      <th>4</th>\n",
       "      <td>29.00</td>\n",
       "      <td>10</td>\n",
       "    </tr>\n",
       "    <tr>\n",
       "      <th>5</th>\n",
       "      <td>15.35</td>\n",
       "      <td>6</td>\n",
       "    </tr>\n",
       "    <tr>\n",
       "      <th>6</th>\n",
       "      <td>19.00</td>\n",
       "      <td>7</td>\n",
       "    </tr>\n",
       "    <tr>\n",
       "      <th>7</th>\n",
       "      <td>9.50</td>\n",
       "      <td>3</td>\n",
       "    </tr>\n",
       "    <tr>\n",
       "      <th>8</th>\n",
       "      <td>17.90</td>\n",
       "      <td>10</td>\n",
       "    </tr>\n",
       "    <tr>\n",
       "      <th>9</th>\n",
       "      <td>18.75</td>\n",
       "      <td>9</td>\n",
       "    </tr>\n",
       "    <tr>\n",
       "      <th>10</th>\n",
       "      <td>19.83</td>\n",
       "      <td>8</td>\n",
       "    </tr>\n",
       "    <tr>\n",
       "      <th>11</th>\n",
       "      <td>10.75</td>\n",
       "      <td>4</td>\n",
       "    </tr>\n",
       "    <tr>\n",
       "      <th>12</th>\n",
       "      <td>16.68</td>\n",
       "      <td>7</td>\n",
       "    </tr>\n",
       "    <tr>\n",
       "      <th>13</th>\n",
       "      <td>11.50</td>\n",
       "      <td>3</td>\n",
       "    </tr>\n",
       "    <tr>\n",
       "      <th>14</th>\n",
       "      <td>12.03</td>\n",
       "      <td>3</td>\n",
       "    </tr>\n",
       "    <tr>\n",
       "      <th>15</th>\n",
       "      <td>14.88</td>\n",
       "      <td>4</td>\n",
       "    </tr>\n",
       "    <tr>\n",
       "      <th>16</th>\n",
       "      <td>13.75</td>\n",
       "      <td>6</td>\n",
       "    </tr>\n",
       "    <tr>\n",
       "      <th>17</th>\n",
       "      <td>18.11</td>\n",
       "      <td>7</td>\n",
       "    </tr>\n",
       "    <tr>\n",
       "      <th>18</th>\n",
       "      <td>8.00</td>\n",
       "      <td>2</td>\n",
       "    </tr>\n",
       "    <tr>\n",
       "      <th>19</th>\n",
       "      <td>17.83</td>\n",
       "      <td>7</td>\n",
       "    </tr>\n",
       "    <tr>\n",
       "      <th>20</th>\n",
       "      <td>21.50</td>\n",
       "      <td>5</td>\n",
       "    </tr>\n",
       "  </tbody>\n",
       "</table>\n",
       "</div>"
      ],
      "text/plain": [
       "    Delivery Time  Sorting Time\n",
       "0           21.00            10\n",
       "1           13.50             4\n",
       "2           19.75             6\n",
       "3           24.00             9\n",
       "4           29.00            10\n",
       "5           15.35             6\n",
       "6           19.00             7\n",
       "7            9.50             3\n",
       "8           17.90            10\n",
       "9           18.75             9\n",
       "10          19.83             8\n",
       "11          10.75             4\n",
       "12          16.68             7\n",
       "13          11.50             3\n",
       "14          12.03             3\n",
       "15          14.88             4\n",
       "16          13.75             6\n",
       "17          18.11             7\n",
       "18           8.00             2\n",
       "19          17.83             7\n",
       "20          21.50             5"
      ]
     },
     "execution_count": 81,
     "metadata": {},
     "output_type": "execute_result"
    }
   ],
   "source": [
    "delivery_time = pd.read_csv('delivery_time.csv')\n",
    "delivery_time"
   ]
  },
  {
   "cell_type": "markdown",
   "id": "a1ef31a1",
   "metadata": {},
   "source": [
    "# 3. <u>Data Understanding - \n",
    "\n",
    "## 3.1 Initial Analysis"
   ]
  },
  {
   "cell_type": "code",
   "execution_count": 82,
   "id": "7cc89871",
   "metadata": {},
   "outputs": [
    {
     "data": {
      "text/plain": [
       "Delivery Time    0\n",
       "Sorting Time     0\n",
       "dtype: int64"
      ]
     },
     "execution_count": 82,
     "metadata": {},
     "output_type": "execute_result"
    }
   ],
   "source": [
    "delivery_time.isna().sum()"
   ]
  },
  {
   "cell_type": "code",
   "execution_count": 83,
   "id": "015ba350",
   "metadata": {},
   "outputs": [
    {
     "data": {
      "text/plain": [
       "Delivery Time    float64\n",
       "Sorting Time       int64\n",
       "dtype: object"
      ]
     },
     "execution_count": 83,
     "metadata": {},
     "output_type": "execute_result"
    }
   ],
   "source": [
    "delivery_time.dtypes"
   ]
  },
  {
   "cell_type": "code",
   "execution_count": 84,
   "id": "9cf5eded",
   "metadata": {},
   "outputs": [
    {
     "data": {
      "text/plain": [
       "(21, 2)"
      ]
     },
     "execution_count": 84,
     "metadata": {},
     "output_type": "execute_result"
    }
   ],
   "source": [
    "delivery_time.shape"
   ]
  },
  {
   "cell_type": "markdown",
   "id": "743425ed",
   "metadata": {},
   "source": [
    "## 3.2 Assumptions Check"
   ]
  },
  {
   "cell_type": "markdown",
   "id": "44fa8328",
   "metadata": {},
   "source": [
    "### 1. Linearity Test"
   ]
  },
  {
   "cell_type": "code",
   "execution_count": 85,
   "id": "b85f617b",
   "metadata": {},
   "outputs": [
    {
     "data": {
      "image/png": "[encoded data removed]",
      "text/plain": [
       "<Figure size 360x360 with 1 Axes>"
      ]
     },
     "metadata": {
      "needs_background": "light"
     },
     "output_type": "display_data"
    }
   ],
   "source": [
    "sns.lmplot(x = 'Sorting Time', y = 'Delivery Time', data = delivery_time)\n",
    "plt.title('Delivery time VS Sorting Time')\n",
    "plt.show()"
   ]
  },
  {
   "cell_type": "markdown",
   "id": "e8a8cfe8",
   "metadata": {},
   "source": [
    "**Linearty Test Failed**"
   ]
  },
  {
   "cell_type": "markdown",
   "id": "bb7a11fe",
   "metadata": {},
   "source": [
    "### 2. Test for Normality"
   ]
  },
  {
   "cell_type": "code",
   "execution_count": 86,
   "id": "fc8d1be4",
   "metadata": {},
   "outputs": [
    {
     "data": {
      "image/png": "[encoded data removed]",
      "text/plain": [
       "<Figure size 432x288 with 1 Axes>"
      ]
     },
     "metadata": {
      "needs_background": "light"
     },
     "output_type": "display_data"
    }
   ],
   "source": [
    "sns.distplot(a = delivery_time['Delivery Time'],hist=False)\n",
    "plt.show()"
   ]
  },
  {
   "cell_type": "code",
   "execution_count": 87,
   "id": "c9a2efee",
   "metadata": {},
   "outputs": [
    {
     "data": {
      "image/png": "[encoded data removed]",
      "text/plain": [
       "<Figure size 432x288 with 1 Axes>"
      ]
     },
     "metadata": {
      "needs_background": "light"
     },
     "output_type": "display_data"
    }
   ],
   "source": [
    "sns.distplot(a = delivery_time['Sorting Time'],hist=False)\n",
    "plt.show()"
   ]
  },
  {
   "cell_type": "code",
   "execution_count": 88,
   "id": "7764c704",
   "metadata": {},
   "outputs": [
    {
     "name": "stdout",
     "output_type": "stream",
     "text": [
      "Delivery Time    0.35\n",
      "Sorting Time     0.05\n",
      "dtype: float64\n"
     ]
    }
   ],
   "source": [
    "print(round(delivery_time.skew(),2))"
   ]
  },
  {
   "cell_type": "code",
   "execution_count": 89,
   "id": "9dc280bf",
   "metadata": {},
   "outputs": [
    {
     "name": "stdout",
     "output_type": "stream",
     "text": [
      "Delivery Time    0.32\n",
      "Sorting Time    -1.15\n",
      "dtype: float64\n"
     ]
    }
   ],
   "source": [
    "print(round(delivery_time.kurtosis(),2))"
   ]
  },
  {
   "cell_type": "markdown",
   "id": "83c369b8",
   "metadata": {},
   "source": [
    "**Normality test Failed.** "
   ]
  },
  {
   "cell_type": "markdown",
   "id": "29926d81",
   "metadata": {},
   "source": [
    "# 4. <u>Model Building using SKLEARN library -  "
   ]
  },
  {
   "cell_type": "code",
   "execution_count": 90,
   "id": "b36ec2d6",
   "metadata": {},
   "outputs": [],
   "source": [
    "x = delivery_time[['Sorting Time']]\n",
    "y = delivery_time[['Delivery Time']]"
   ]
  },
  {
   "cell_type": "code",
   "execution_count": 91,
   "id": "4e392566",
   "metadata": {},
   "outputs": [
    {
     "data": {
      "text/html": [
       "<div>\n",
       "<style scoped>\n",
       "    .dataframe tbody tr th:only-of-type {\n",
       "        vertical-align: middle;\n",
       "    }\n",
       "\n",
       "    .dataframe tbody tr th {\n",
       "        vertical-align: top;\n",
       "    }\n",
       "\n",
       "    .dataframe thead th {\n",
       "        text-align: right;\n",
       "    }\n",
       "</style>\n",
       "<table border=\"1\" class=\"dataframe\">\n",
       "  <thead>\n",
       "    <tr style=\"text-align: right;\">\n",
       "      <th></th>\n",
       "      <th>Sorting Time</th>\n",
       "    </tr>\n",
       "  </thead>\n",
       "  <tbody>\n",
       "    <tr>\n",
       "      <th>0</th>\n",
       "      <td>10</td>\n",
       "    </tr>\n",
       "    <tr>\n",
       "      <th>1</th>\n",
       "      <td>4</td>\n",
       "    </tr>\n",
       "    <tr>\n",
       "      <th>2</th>\n",
       "      <td>6</td>\n",
       "    </tr>\n",
       "    <tr>\n",
       "      <th>3</th>\n",
       "      <td>9</td>\n",
       "    </tr>\n",
       "    <tr>\n",
       "      <th>4</th>\n",
       "      <td>10</td>\n",
       "    </tr>\n",
       "    <tr>\n",
       "      <th>5</th>\n",
       "      <td>6</td>\n",
       "    </tr>\n",
       "    <tr>\n",
       "      <th>6</th>\n",
       "      <td>7</td>\n",
       "    </tr>\n",
       "    <tr>\n",
       "      <th>7</th>\n",
       "      <td>3</td>\n",
       "    </tr>\n",
       "    <tr>\n",
       "      <th>8</th>\n",
       "      <td>10</td>\n",
       "    </tr>\n",
       "    <tr>\n",
       "      <th>9</th>\n",
       "      <td>9</td>\n",
       "    </tr>\n",
       "    <tr>\n",
       "      <th>10</th>\n",
       "      <td>8</td>\n",
       "    </tr>\n",
       "    <tr>\n",
       "      <th>11</th>\n",
       "      <td>4</td>\n",
       "    </tr>\n",
       "    <tr>\n",
       "      <th>12</th>\n",
       "      <td>7</td>\n",
       "    </tr>\n",
       "    <tr>\n",
       "      <th>13</th>\n",
       "      <td>3</td>\n",
       "    </tr>\n",
       "    <tr>\n",
       "      <th>14</th>\n",
       "      <td>3</td>\n",
       "    </tr>\n",
       "    <tr>\n",
       "      <th>15</th>\n",
       "      <td>4</td>\n",
       "    </tr>\n",
       "    <tr>\n",
       "      <th>16</th>\n",
       "      <td>6</td>\n",
       "    </tr>\n",
       "    <tr>\n",
       "      <th>17</th>\n",
       "      <td>7</td>\n",
       "    </tr>\n",
       "    <tr>\n",
       "      <th>18</th>\n",
       "      <td>2</td>\n",
       "    </tr>\n",
       "    <tr>\n",
       "      <th>19</th>\n",
       "      <td>7</td>\n",
       "    </tr>\n",
       "    <tr>\n",
       "      <th>20</th>\n",
       "      <td>5</td>\n",
       "    </tr>\n",
       "  </tbody>\n",
       "</table>\n",
       "</div>"
      ],
      "text/plain": [
       "    Sorting Time\n",
       "0             10\n",
       "1              4\n",
       "2              6\n",
       "3              9\n",
       "4             10\n",
       "5              6\n",
       "6              7\n",
       "7              3\n",
       "8             10\n",
       "9              9\n",
       "10             8\n",
       "11             4\n",
       "12             7\n",
       "13             3\n",
       "14             3\n",
       "15             4\n",
       "16             6\n",
       "17             7\n",
       "18             2\n",
       "19             7\n",
       "20             5"
      ]
     },
     "execution_count": 91,
     "metadata": {},
     "output_type": "execute_result"
    }
   ],
   "source": [
    "x"
   ]
  },
  {
   "cell_type": "code",
   "execution_count": 92,
   "id": "3c82e5a6",
   "metadata": {},
   "outputs": [
    {
     "data": {
      "text/html": [
       "<div>\n",
       "<style scoped>\n",
       "    .dataframe tbody tr th:only-of-type {\n",
       "        vertical-align: middle;\n",
       "    }\n",
       "\n",
       "    .dataframe tbody tr th {\n",
       "        vertical-align: top;\n",
       "    }\n",
       "\n",
       "    .dataframe thead th {\n",
       "        text-align: right;\n",
       "    }\n",
       "</style>\n",
       "<table border=\"1\" class=\"dataframe\">\n",
       "  <thead>\n",
       "    <tr style=\"text-align: right;\">\n",
       "      <th></th>\n",
       "      <th>Delivery Time</th>\n",
       "    </tr>\n",
       "  </thead>\n",
       "  <tbody>\n",
       "    <tr>\n",
       "      <th>0</th>\n",
       "      <td>21.00</td>\n",
       "    </tr>\n",
       "    <tr>\n",
       "      <th>1</th>\n",
       "      <td>13.50</td>\n",
       "    </tr>\n",
       "    <tr>\n",
       "      <th>2</th>\n",
       "      <td>19.75</td>\n",
       "    </tr>\n",
       "    <tr>\n",
       "      <th>3</th>\n",
       "      <td>24.00</td>\n",
       "    </tr>\n",
       "    <tr>\n",
       "      <th>4</th>\n",
       "      <td>29.00</td>\n",
       "    </tr>\n",
       "    <tr>\n",
       "      <th>5</th>\n",
       "      <td>15.35</td>\n",
       "    </tr>\n",
       "    <tr>\n",
       "      <th>6</th>\n",
       "      <td>19.00</td>\n",
       "    </tr>\n",
       "    <tr>\n",
       "      <th>7</th>\n",
       "      <td>9.50</td>\n",
       "    </tr>\n",
       "    <tr>\n",
       "      <th>8</th>\n",
       "      <td>17.90</td>\n",
       "    </tr>\n",
       "    <tr>\n",
       "      <th>9</th>\n",
       "      <td>18.75</td>\n",
       "    </tr>\n",
       "    <tr>\n",
       "      <th>10</th>\n",
       "      <td>19.83</td>\n",
       "    </tr>\n",
       "    <tr>\n",
       "      <th>11</th>\n",
       "      <td>10.75</td>\n",
       "    </tr>\n",
       "    <tr>\n",
       "      <th>12</th>\n",
       "      <td>16.68</td>\n",
       "    </tr>\n",
       "    <tr>\n",
       "      <th>13</th>\n",
       "      <td>11.50</td>\n",
       "    </tr>\n",
       "    <tr>\n",
       "      <th>14</th>\n",
       "      <td>12.03</td>\n",
       "    </tr>\n",
       "    <tr>\n",
       "      <th>15</th>\n",
       "      <td>14.88</td>\n",
       "    </tr>\n",
       "    <tr>\n",
       "      <th>16</th>\n",
       "      <td>13.75</td>\n",
       "    </tr>\n",
       "    <tr>\n",
       "      <th>17</th>\n",
       "      <td>18.11</td>\n",
       "    </tr>\n",
       "    <tr>\n",
       "      <th>18</th>\n",
       "      <td>8.00</td>\n",
       "    </tr>\n",
       "    <tr>\n",
       "      <th>19</th>\n",
       "      <td>17.83</td>\n",
       "    </tr>\n",
       "    <tr>\n",
       "      <th>20</th>\n",
       "      <td>21.50</td>\n",
       "    </tr>\n",
       "  </tbody>\n",
       "</table>\n",
       "</div>"
      ],
      "text/plain": [
       "    Delivery Time\n",
       "0           21.00\n",
       "1           13.50\n",
       "2           19.75\n",
       "3           24.00\n",
       "4           29.00\n",
       "5           15.35\n",
       "6           19.00\n",
       "7            9.50\n",
       "8           17.90\n",
       "9           18.75\n",
       "10          19.83\n",
       "11          10.75\n",
       "12          16.68\n",
       "13          11.50\n",
       "14          12.03\n",
       "15          14.88\n",
       "16          13.75\n",
       "17          18.11\n",
       "18           8.00\n",
       "19          17.83\n",
       "20          21.50"
      ]
     },
     "execution_count": 92,
     "metadata": {},
     "output_type": "execute_result"
    }
   ],
   "source": [
    "y"
   ]
  },
  {
   "cell_type": "markdown",
   "id": "c1781bab",
   "metadata": {},
   "source": [
    "# 5. <u>Model Training - "
   ]
  },
  {
   "cell_type": "code",
   "execution_count": 93,
   "id": "a867af12",
   "metadata": {},
   "outputs": [
    {
     "data": {
      "text/plain": [
       "LinearRegression()"
      ]
     },
     "execution_count": 93,
     "metadata": {},
     "output_type": "execute_result"
    }
   ],
   "source": [
    "linear_model = LinearRegression() #Model Initialization\n",
    "linear_model"
   ]
  },
  {
   "cell_type": "code",
   "execution_count": 94,
   "id": "1c66a12a",
   "metadata": {},
   "outputs": [
    {
     "data": {
      "text/plain": [
       "LinearRegression()"
      ]
     },
     "execution_count": 94,
     "metadata": {},
     "output_type": "execute_result"
    }
   ],
   "source": [
    "linear_model.fit(x,y) #Training happens"
   ]
  },
  {
   "cell_type": "code",
   "execution_count": 95,
   "id": "68364ccb",
   "metadata": {},
   "outputs": [
    {
     "data": {
      "text/plain": [
       "array([[1.6490199]])"
      ]
     },
     "execution_count": 95,
     "metadata": {},
     "output_type": "execute_result"
    }
   ],
   "source": [
    "linear_model.coef_"
   ]
  },
  {
   "cell_type": "code",
   "execution_count": 96,
   "id": "e64eaa4e",
   "metadata": {},
   "outputs": [
    {
     "data": {
      "text/plain": [
       "array([6.58273397])"
      ]
     },
     "execution_count": 96,
     "metadata": {},
     "output_type": "execute_result"
    }
   ],
   "source": [
    "linear_model.intercept_"
   ]
  },
  {
   "cell_type": "markdown",
   "id": "86ff1f90",
   "metadata": {},
   "source": [
    "# 6. <u>Model Testing - "
   ]
  },
  {
   "cell_type": "code",
   "execution_count": 97,
   "id": "9a46df34",
   "metadata": {},
   "outputs": [
    {
     "data": {
      "text/plain": [
       "array([[23.07293294],\n",
       "       [13.17881356],\n",
       "       [16.47685335],\n",
       "       [21.42391304],\n",
       "       [23.07293294],\n",
       "       [16.47685335],\n",
       "       [18.12587325],\n",
       "       [11.52979366],\n",
       "       [23.07293294],\n",
       "       [21.42391304],\n",
       "       [19.77489315],\n",
       "       [13.17881356],\n",
       "       [18.12587325],\n",
       "       [11.52979366],\n",
       "       [11.52979366],\n",
       "       [13.17881356],\n",
       "       [16.47685335],\n",
       "       [18.12587325],\n",
       "       [ 9.88077377],\n",
       "       [18.12587325],\n",
       "       [14.82783346]])"
      ]
     },
     "execution_count": 97,
     "metadata": {},
     "output_type": "execute_result"
    }
   ],
   "source": [
    "y_pred = linear_model.predict(x)\n",
    "y_pred"
   ]
  },
  {
   "cell_type": "markdown",
   "id": "52ce8f81",
   "metadata": {},
   "source": [
    "# 7. <u>Model Evaluation - "
   ]
  },
  {
   "cell_type": "code",
   "execution_count": 98,
   "id": "4ba6e963",
   "metadata": {},
   "outputs": [
    {
     "data": {
      "text/html": [
       "<div>\n",
       "<style scoped>\n",
       "    .dataframe tbody tr th:only-of-type {\n",
       "        vertical-align: middle;\n",
       "    }\n",
       "\n",
       "    .dataframe tbody tr th {\n",
       "        vertical-align: top;\n",
       "    }\n",
       "\n",
       "    .dataframe thead th {\n",
       "        text-align: right;\n",
       "    }\n",
       "</style>\n",
       "<table border=\"1\" class=\"dataframe\">\n",
       "  <thead>\n",
       "    <tr style=\"text-align: right;\">\n",
       "      <th></th>\n",
       "      <th>Delivery Time</th>\n",
       "    </tr>\n",
       "  </thead>\n",
       "  <tbody>\n",
       "    <tr>\n",
       "      <th>0</th>\n",
       "      <td>21.00</td>\n",
       "    </tr>\n",
       "    <tr>\n",
       "      <th>1</th>\n",
       "      <td>13.50</td>\n",
       "    </tr>\n",
       "    <tr>\n",
       "      <th>2</th>\n",
       "      <td>19.75</td>\n",
       "    </tr>\n",
       "    <tr>\n",
       "      <th>3</th>\n",
       "      <td>24.00</td>\n",
       "    </tr>\n",
       "    <tr>\n",
       "      <th>4</th>\n",
       "      <td>29.00</td>\n",
       "    </tr>\n",
       "    <tr>\n",
       "      <th>5</th>\n",
       "      <td>15.35</td>\n",
       "    </tr>\n",
       "    <tr>\n",
       "      <th>6</th>\n",
       "      <td>19.00</td>\n",
       "    </tr>\n",
       "    <tr>\n",
       "      <th>7</th>\n",
       "      <td>9.50</td>\n",
       "    </tr>\n",
       "    <tr>\n",
       "      <th>8</th>\n",
       "      <td>17.90</td>\n",
       "    </tr>\n",
       "    <tr>\n",
       "      <th>9</th>\n",
       "      <td>18.75</td>\n",
       "    </tr>\n",
       "    <tr>\n",
       "      <th>10</th>\n",
       "      <td>19.83</td>\n",
       "    </tr>\n",
       "    <tr>\n",
       "      <th>11</th>\n",
       "      <td>10.75</td>\n",
       "    </tr>\n",
       "    <tr>\n",
       "      <th>12</th>\n",
       "      <td>16.68</td>\n",
       "    </tr>\n",
       "    <tr>\n",
       "      <th>13</th>\n",
       "      <td>11.50</td>\n",
       "    </tr>\n",
       "    <tr>\n",
       "      <th>14</th>\n",
       "      <td>12.03</td>\n",
       "    </tr>\n",
       "    <tr>\n",
       "      <th>15</th>\n",
       "      <td>14.88</td>\n",
       "    </tr>\n",
       "    <tr>\n",
       "      <th>16</th>\n",
       "      <td>13.75</td>\n",
       "    </tr>\n",
       "    <tr>\n",
       "      <th>17</th>\n",
       "      <td>18.11</td>\n",
       "    </tr>\n",
       "    <tr>\n",
       "      <th>18</th>\n",
       "      <td>8.00</td>\n",
       "    </tr>\n",
       "    <tr>\n",
       "      <th>19</th>\n",
       "      <td>17.83</td>\n",
       "    </tr>\n",
       "    <tr>\n",
       "      <th>20</th>\n",
       "      <td>21.50</td>\n",
       "    </tr>\n",
       "  </tbody>\n",
       "</table>\n",
       "</div>"
      ],
      "text/plain": [
       "    Delivery Time\n",
       "0           21.00\n",
       "1           13.50\n",
       "2           19.75\n",
       "3           24.00\n",
       "4           29.00\n",
       "5           15.35\n",
       "6           19.00\n",
       "7            9.50\n",
       "8           17.90\n",
       "9           18.75\n",
       "10          19.83\n",
       "11          10.75\n",
       "12          16.68\n",
       "13          11.50\n",
       "14          12.03\n",
       "15          14.88\n",
       "16          13.75\n",
       "17          18.11\n",
       "18           8.00\n",
       "19          17.83\n",
       "20          21.50"
      ]
     },
     "execution_count": 98,
     "metadata": {},
     "output_type": "execute_result"
    }
   ],
   "source": [
    "y"
   ]
  },
  {
   "cell_type": "code",
   "execution_count": 99,
   "id": "7f47628f",
   "metadata": {},
   "outputs": [
    {
     "data": {
      "text/plain": [
       "array([[23.07293294],\n",
       "       [13.17881356],\n",
       "       [16.47685335],\n",
       "       [21.42391304],\n",
       "       [23.07293294],\n",
       "       [16.47685335],\n",
       "       [18.12587325],\n",
       "       [11.52979366],\n",
       "       [23.07293294],\n",
       "       [21.42391304],\n",
       "       [19.77489315],\n",
       "       [13.17881356],\n",
       "       [18.12587325],\n",
       "       [11.52979366],\n",
       "       [11.52979366],\n",
       "       [13.17881356],\n",
       "       [16.47685335],\n",
       "       [18.12587325],\n",
       "       [ 9.88077377],\n",
       "       [18.12587325],\n",
       "       [14.82783346]])"
      ]
     },
     "execution_count": 99,
     "metadata": {},
     "output_type": "execute_result"
    }
   ],
   "source": [
    "y_pred"
   ]
  },
  {
   "cell_type": "code",
   "execution_count": 100,
   "id": "c28686f8",
   "metadata": {},
   "outputs": [
    {
     "data": {
      "text/html": [
       "<div>\n",
       "<style scoped>\n",
       "    .dataframe tbody tr th:only-of-type {\n",
       "        vertical-align: middle;\n",
       "    }\n",
       "\n",
       "    .dataframe tbody tr th {\n",
       "        vertical-align: top;\n",
       "    }\n",
       "\n",
       "    .dataframe thead th {\n",
       "        text-align: right;\n",
       "    }\n",
       "</style>\n",
       "<table border=\"1\" class=\"dataframe\">\n",
       "  <thead>\n",
       "    <tr style=\"text-align: right;\">\n",
       "      <th></th>\n",
       "      <th>Delivery Time</th>\n",
       "    </tr>\n",
       "  </thead>\n",
       "  <tbody>\n",
       "    <tr>\n",
       "      <th>0</th>\n",
       "      <td>-2.072933</td>\n",
       "    </tr>\n",
       "    <tr>\n",
       "      <th>1</th>\n",
       "      <td>0.321186</td>\n",
       "    </tr>\n",
       "    <tr>\n",
       "      <th>2</th>\n",
       "      <td>3.273147</td>\n",
       "    </tr>\n",
       "    <tr>\n",
       "      <th>3</th>\n",
       "      <td>2.576087</td>\n",
       "    </tr>\n",
       "    <tr>\n",
       "      <th>4</th>\n",
       "      <td>5.927067</td>\n",
       "    </tr>\n",
       "    <tr>\n",
       "      <th>5</th>\n",
       "      <td>-1.126853</td>\n",
       "    </tr>\n",
       "    <tr>\n",
       "      <th>6</th>\n",
       "      <td>0.874127</td>\n",
       "    </tr>\n",
       "    <tr>\n",
       "      <th>7</th>\n",
       "      <td>-2.029794</td>\n",
       "    </tr>\n",
       "    <tr>\n",
       "      <th>8</th>\n",
       "      <td>-5.172933</td>\n",
       "    </tr>\n",
       "    <tr>\n",
       "      <th>9</th>\n",
       "      <td>-2.673913</td>\n",
       "    </tr>\n",
       "    <tr>\n",
       "      <th>10</th>\n",
       "      <td>0.055107</td>\n",
       "    </tr>\n",
       "    <tr>\n",
       "      <th>11</th>\n",
       "      <td>-2.428814</td>\n",
       "    </tr>\n",
       "    <tr>\n",
       "      <th>12</th>\n",
       "      <td>-1.445873</td>\n",
       "    </tr>\n",
       "    <tr>\n",
       "      <th>13</th>\n",
       "      <td>-0.029794</td>\n",
       "    </tr>\n",
       "    <tr>\n",
       "      <th>14</th>\n",
       "      <td>0.500206</td>\n",
       "    </tr>\n",
       "    <tr>\n",
       "      <th>15</th>\n",
       "      <td>1.701186</td>\n",
       "    </tr>\n",
       "    <tr>\n",
       "      <th>16</th>\n",
       "      <td>-2.726853</td>\n",
       "    </tr>\n",
       "    <tr>\n",
       "      <th>17</th>\n",
       "      <td>-0.015873</td>\n",
       "    </tr>\n",
       "    <tr>\n",
       "      <th>18</th>\n",
       "      <td>-1.880774</td>\n",
       "    </tr>\n",
       "    <tr>\n",
       "      <th>19</th>\n",
       "      <td>-0.295873</td>\n",
       "    </tr>\n",
       "    <tr>\n",
       "      <th>20</th>\n",
       "      <td>6.672167</td>\n",
       "    </tr>\n",
       "  </tbody>\n",
       "</table>\n",
       "</div>"
      ],
      "text/plain": [
       "    Delivery Time\n",
       "0       -2.072933\n",
       "1        0.321186\n",
       "2        3.273147\n",
       "3        2.576087\n",
       "4        5.927067\n",
       "5       -1.126853\n",
       "6        0.874127\n",
       "7       -2.029794\n",
       "8       -5.172933\n",
       "9       -2.673913\n",
       "10       0.055107\n",
       "11      -2.428814\n",
       "12      -1.445873\n",
       "13      -0.029794\n",
       "14       0.500206\n",
       "15       1.701186\n",
       "16      -2.726853\n",
       "17      -0.015873\n",
       "18      -1.880774\n",
       "19      -0.295873\n",
       "20       6.672167"
      ]
     },
     "execution_count": 100,
     "metadata": {},
     "output_type": "execute_result"
    }
   ],
   "source": [
    "error = y - y_pred\n",
    "error"
   ]
  },
  {
   "cell_type": "markdown",
   "id": "9664b8bd",
   "metadata": {},
   "source": [
    "# 8. <u>Now, we can check for Homoscadasicity and Zero Residual Mean"
   ]
  },
  {
   "cell_type": "markdown",
   "id": "132040ab",
   "metadata": {},
   "source": [
    "## Homoscedasticity"
   ]
  },
  {
   "cell_type": "code",
   "execution_count": 101,
   "id": "703a9df2",
   "metadata": {},
   "outputs": [
    {
     "data": {
      "image/png": "[encoded data removed]",
      "text/plain": [
       "<Figure size 432x288 with 1 Axes>"
      ]
     },
     "metadata": {
      "needs_background": "light"
     },
     "output_type": "display_data"
    }
   ],
   "source": [
    "plt.scatter(x = x,y = error)\n",
    "plt.title('Homoscedasticity - Sorting Time vs Error')\n",
    "plt.xlabel('Sorting Time')\n",
    "plt.ylabel('Error')\n",
    "plt.show()"
   ]
  },
  {
   "cell_type": "markdown",
   "id": "4bbeca6b",
   "metadata": {},
   "source": [
    "## Zero residual Mean "
   ]
  },
  {
   "cell_type": "code",
   "execution_count": 102,
   "id": "06da0f2c",
   "metadata": {},
   "outputs": [
    {
     "data": {
      "image/png": "[encoded data removed]",
      "text/plain": [
       "<Figure size 432x288 with 1 Axes>"
      ]
     },
     "metadata": {
      "needs_background": "light"
     },
     "output_type": "display_data"
    }
   ],
   "source": [
    "plt.scatter(x = y, y =y_pred )\n",
    "plt.title('Zero Residual Mean - Actual O/p Vs Predicted O/p')\n",
    "plt.xlabel('Actual Output')\n",
    "plt.ylabel('Predicted Output')\n",
    "plt.show()"
   ]
  },
  {
   "cell_type": "code",
   "execution_count": null,
   "id": "37a7dae2",
   "metadata": {},
   "outputs": [],
   "source": [
    "print('R2 Score =',r2_score(y,y_pred))\n",
    "print('Mean Absolute Error =',mean_absolute_error(y,y_pred))\n",
    "print('Mean Squared Error',mean_squared_error(y,y_pred))"
   ]
  },
  {
   "cell_type": "markdown",
   "id": "4e1bdfe3",
   "metadata": {},
   "source": [
    "# 9. Scaling of data "
   ]
  },
  {
   "cell_type": "code",
   "execution_count": null,
   "id": "196289a7",
   "metadata": {},
   "outputs": [],
   "source": [
    "std = StandardScaler()\n",
    "scaled_x = std.fit_transform(x)\n",
    "scaled_x"
   ]
  },
  {
   "cell_type": "code",
   "execution_count": null,
   "id": "ecb9ada1",
   "metadata": {},
   "outputs": [],
   "source": [
    "scaled_x = pd.DataFrame(scaled_x)"
   ]
  },
  {
   "cell_type": "code",
   "execution_count": null,
   "id": "26a6449c",
   "metadata": {},
   "outputs": [],
   "source": [
    "scaled_x"
   ]
  },
  {
   "cell_type": "code",
   "execution_count": null,
   "id": "795d8c98",
   "metadata": {},
   "outputs": [],
   "source": [
    "scaled_x ['Scaled_x'] = scaled_x"
   ]
  },
  {
   "cell_type": "code",
   "execution_count": null,
   "id": "573ec764",
   "metadata": {},
   "outputs": [],
   "source": [
    "scaled_x"
   ]
  },
  {
   "cell_type": "code",
   "execution_count": null,
   "id": "82d7c30e",
   "metadata": {},
   "outputs": [],
   "source": [
    "scaled_x = scaled_x.drop(labels = 0, axis = 1)\n",
    "scaled_x"
   ]
  },
  {
   "cell_type": "markdown",
   "id": "7520b8af",
   "metadata": {},
   "source": [
    "### Training -"
   ]
  },
  {
   "cell_type": "code",
   "execution_count": null,
   "id": "f1d6f15a",
   "metadata": {},
   "outputs": [],
   "source": [
    "scaled_linear_model = LinearRegression() #Model Initialization\n",
    "scaled_linear_model"
   ]
  },
  {
   "cell_type": "code",
   "execution_count": null,
   "id": "103902d3",
   "metadata": {},
   "outputs": [],
   "source": [
    "linear_model.fit(scaled_x,y) #Training happens"
   ]
  },
  {
   "cell_type": "markdown",
   "id": "16eaa4ea",
   "metadata": {},
   "source": [
    "### Testing -  "
   ]
  },
  {
   "cell_type": "code",
   "execution_count": null,
   "id": "4960e032",
   "metadata": {},
   "outputs": [],
   "source": [
    "y_pred_scaled = linear_model.predict(scaled_x)\n",
    "y_pred_scaled"
   ]
  },
  {
   "cell_type": "code",
   "execution_count": null,
   "id": "f457da08",
   "metadata": {},
   "outputs": [],
   "source": [
    "print('R2 Score =',r2_score(y,y_pred_scaled))\n",
    "print('Mean Absolute Error =',mean_absolute_error(y,y_pred_scaled))\n",
    "print('Mean Squared Error =',mean_squared_error(y,y_pred_scaled))"
   ]
  },
  {
   "cell_type": "markdown",
   "id": "4fc88996",
   "metadata": {},
   "source": [
    "#  10. <u>Transformation - "
   ]
  },
  {
   "cell_type": "markdown",
   "id": "8234504e",
   "metadata": {},
   "source": [
    "### 10.1  Taking log  "
   ]
  },
  {
   "cell_type": "code",
   "execution_count": null,
   "id": "c6b87f59",
   "metadata": {},
   "outputs": [],
   "source": [
    "x_log = np.log(x)\n",
    "x_log"
   ]
  },
  {
   "cell_type": "markdown",
   "id": "f472b424",
   "metadata": {},
   "source": [
    "### Training -"
   ]
  },
  {
   "cell_type": "code",
   "execution_count": null,
   "id": "bb67a90c",
   "metadata": {},
   "outputs": [],
   "source": [
    "log_model = LinearRegression()\n",
    "log_model"
   ]
  },
  {
   "cell_type": "code",
   "execution_count": null,
   "id": "d7150ba4",
   "metadata": {},
   "outputs": [],
   "source": [
    "log_model.fit(x_log,y)"
   ]
  },
  {
   "cell_type": "markdown",
   "id": "21c81361",
   "metadata": {},
   "source": [
    "### Testing -  "
   ]
  },
  {
   "cell_type": "code",
   "execution_count": null,
   "id": "84d06487",
   "metadata": {},
   "outputs": [],
   "source": [
    "y_pred_log = log_model.predict(x_log)\n",
    "y_pred_log"
   ]
  },
  {
   "cell_type": "code",
   "execution_count": null,
   "id": "7b8587d3",
   "metadata": {},
   "outputs": [],
   "source": [
    "print('R2 Square =',r2_score(y,y_pred_log))\n",
    "print('Mean Absolute Error =',mean_absolute_error(y,y_pred_log))\n",
    "print('Mean Squared Error =',mean_squared_error(y,y_pred_log))"
   ]
  },
  {
   "cell_type": "markdown",
   "id": "f70a7323",
   "metadata": {},
   "source": [
    "### 10.2  Taking square root "
   ]
  },
  {
   "cell_type": "code",
   "execution_count": null,
   "id": "447611c9",
   "metadata": {},
   "outputs": [],
   "source": [
    "x_sqrt = np.sqrt(x)\n",
    "x_sqrt"
   ]
  },
  {
   "cell_type": "markdown",
   "id": "b1b50d0b",
   "metadata": {},
   "source": [
    "### Training -"
   ]
  },
  {
   "cell_type": "code",
   "execution_count": null,
   "id": "9e6c3cb2",
   "metadata": {},
   "outputs": [],
   "source": [
    "sqrt_model = LinearRegression()\n",
    "sqrt_model"
   ]
  },
  {
   "cell_type": "code",
   "execution_count": null,
   "id": "51285994",
   "metadata": {},
   "outputs": [],
   "source": [
    "sqrt_model.fit(x_sqrt,y)\n",
    "sqrt_model"
   ]
  },
  {
   "cell_type": "markdown",
   "id": "bd8e631f",
   "metadata": {},
   "source": [
    "### Testing -  "
   ]
  },
  {
   "cell_type": "code",
   "execution_count": null,
   "id": "dc4a9452",
   "metadata": {},
   "outputs": [],
   "source": [
    "y_pred_sqrt = sqrt_model.predict(x_sqrt)\n",
    "y_pred_sqrt"
   ]
  },
  {
   "cell_type": "code",
   "execution_count": null,
   "id": "408069bc",
   "metadata": {},
   "outputs": [],
   "source": [
    "print('R2 Score =',r2_score(y,y_pred_sqrt))\n",
    "print('Mean Absolute Error =',mean_absolute_error(y,y_pred_sqrt))\n",
    "print('Mean Squared Error =',mean_squared_error(y,y_pred_sqrt))"
   ]
  },
  {
   "cell_type": "markdown",
   "id": "c0c4137e",
   "metadata": {},
   "source": [
    "### 10.3  Taking square "
   ]
  },
  {
   "cell_type": "code",
   "execution_count": null,
   "id": "b1f8937e",
   "metadata": {},
   "outputs": [],
   "source": [
    "x_square = np.square(x)\n",
    "x_square"
   ]
  },
  {
   "cell_type": "markdown",
   "id": "3e5b4467",
   "metadata": {},
   "source": [
    "### Training -"
   ]
  },
  {
   "cell_type": "code",
   "execution_count": null,
   "id": "3884adb4",
   "metadata": {},
   "outputs": [],
   "source": [
    "square_model = LinearRegression()\n",
    "square_model"
   ]
  },
  {
   "cell_type": "code",
   "execution_count": null,
   "id": "0a2ddf37",
   "metadata": {},
   "outputs": [],
   "source": [
    "square_model.fit(x_square,y)"
   ]
  },
  {
   "cell_type": "markdown",
   "id": "1d066959",
   "metadata": {},
   "source": [
    "### Testing -  "
   ]
  },
  {
   "cell_type": "code",
   "execution_count": null,
   "id": "a1b5b8ca",
   "metadata": {},
   "outputs": [],
   "source": [
    "y_pred_square = square_model.predict(x_square)\n",
    "y_pred_square"
   ]
  },
  {
   "cell_type": "code",
   "execution_count": null,
   "id": "788c46f2",
   "metadata": {},
   "outputs": [],
   "source": [
    "print('R2 Score =',r2_score(y,y_pred_square))\n",
    "print('Mean Absolute Error =',mean_absolute_error(y,y_pred_square))\n",
    "print('Mean Squared Error =',mean_squared_error(y,y_pred_square))"
   ]
  },
  {
   "cell_type": "markdown",
   "id": "0cc8fdaa",
   "metadata": {},
   "source": [
    "###  10.4  Taking Sin"
   ]
  },
  {
   "cell_type": "code",
   "execution_count": null,
   "id": "485b2c69",
   "metadata": {},
   "outputs": [],
   "source": [
    "x_sin = np.sin(x)\n",
    "x_sin"
   ]
  },
  {
   "cell_type": "markdown",
   "id": "d1ad261d",
   "metadata": {},
   "source": [
    "### Training -"
   ]
  },
  {
   "cell_type": "code",
   "execution_count": null,
   "id": "17fb5642",
   "metadata": {},
   "outputs": [],
   "source": [
    "sin_model = LinearRegression()\n",
    "sin_model"
   ]
  },
  {
   "cell_type": "code",
   "execution_count": null,
   "id": "cfac41bc",
   "metadata": {},
   "outputs": [],
   "source": [
    "sin_model.fit(x_sin,y)"
   ]
  },
  {
   "cell_type": "markdown",
   "id": "10d609ab",
   "metadata": {},
   "source": [
    "### Testing -  "
   ]
  },
  {
   "cell_type": "code",
   "execution_count": null,
   "id": "5c4d7789",
   "metadata": {},
   "outputs": [],
   "source": [
    "y_pred_sin = sin_model.predict(x_sin)\n",
    "y_pred_sin"
   ]
  },
  {
   "cell_type": "code",
   "execution_count": null,
   "id": "fd352592",
   "metadata": {},
   "outputs": [],
   "source": [
    "print('R2 Score =',r2_score(y,y_pred_sin))\n",
    "print('Mean Absolute Error =',mean_absolute_error(y,y_pred_sin))\n",
    "print('Mean Squared Error =',mean_squared_error(y,y_pred_sin))"
   ]
  },
  {
   "cell_type": "markdown",
   "id": "342178a0",
   "metadata": {},
   "source": [
    "# After transformation we can say that square root of x has the highest r2 square and the best model."
   ]
  },
  {
   "cell_type": "markdown",
   "id": "676da1cf",
   "metadata": {},
   "source": [
    "# ============================================================= "
   ]
  },
  {
   "cell_type": "markdown",
   "id": "14decd49",
   "metadata": {},
   "source": [
    "# ============================================================= "
   ]
  },
  {
   "cell_type": "markdown",
   "id": "eff3ba80",
   "metadata": {},
   "source": [
    "# 2) Salary_hike -> Build a prediction model for Salary_hike  "
   ]
  },
  {
   "cell_type": "markdown",
   "id": "6b9e1310",
   "metadata": {},
   "source": [
    "# 1. <u>Import Data - "
   ]
  },
  {
   "cell_type": "code",
   "execution_count": null,
   "id": "af0a33a9",
   "metadata": {},
   "outputs": [],
   "source": [
    "salary_hike = pd.read_csv('Salary_Data.csv')\n",
    "salary_hike"
   ]
  },
  {
   "cell_type": "markdown",
   "id": "2a6672fd",
   "metadata": {},
   "source": [
    "# 2.<u>Data Preparation - "
   ]
  },
  {
   "cell_type": "code",
   "execution_count": null,
   "id": "66a513ec",
   "metadata": {},
   "outputs": [],
   "source": [
    "salary_hike = salary_hike.sort_values(by = 'YearsExperience',ascending = True)\n",
    "salary_hike"
   ]
  },
  {
   "cell_type": "code",
   "execution_count": null,
   "id": "af8d9b8c",
   "metadata": {},
   "outputs": [],
   "source": [
    "salary_hike['Salary Hike'] = salary_hike['Salary'].pct_change(periods = 1)"
   ]
  },
  {
   "cell_type": "code",
   "execution_count": null,
   "id": "80bdd024",
   "metadata": {},
   "outputs": [],
   "source": [
    "salary_hike"
   ]
  },
  {
   "cell_type": "markdown",
   "id": "f972c0cd",
   "metadata": {},
   "source": [
    "# 3. <u>Data Understanding - \n",
    "\n",
    "# 3.1 Initial Analysis"
   ]
  },
  {
   "cell_type": "code",
   "execution_count": null,
   "id": "73e1602d",
   "metadata": {},
   "outputs": [],
   "source": [
    "salary_hike.shape"
   ]
  },
  {
   "cell_type": "code",
   "execution_count": null,
   "id": "82364d8f",
   "metadata": {},
   "outputs": [],
   "source": [
    "salary_hike.isna().sum()"
   ]
  },
  {
   "cell_type": "code",
   "execution_count": null,
   "id": "1b211eb9",
   "metadata": {},
   "outputs": [],
   "source": [
    "salary_hike.dtypes"
   ]
  },
  {
   "cell_type": "code",
   "execution_count": null,
   "id": "90f9f2be",
   "metadata": {},
   "outputs": [],
   "source": [
    "salary_hike.info()"
   ]
  },
  {
   "cell_type": "markdown",
   "id": "2579e4e6",
   "metadata": {},
   "source": [
    "## 3.2 Assumptions Check"
   ]
  },
  {
   "cell_type": "markdown",
   "id": "eeffb8e8",
   "metadata": {},
   "source": [
    "### Linearty  Check -"
   ]
  },
  {
   "cell_type": "code",
   "execution_count": null,
   "id": "3fcad0c1",
   "metadata": {},
   "outputs": [],
   "source": [
    "sns.lmplot(x = 'YearsExperience', y = 'Salary', data = salary_hike )\n",
    "plt.show()"
   ]
  },
  {
   "cell_type": "code",
   "execution_count": null,
   "id": "7aca48a0",
   "metadata": {},
   "outputs": [],
   "source": [
    "sns.lmplot(x = 'YearsExperience', y = 'Salary Hike', data = salary_hike )\n",
    "plt.show()"
   ]
  },
  {
   "cell_type": "markdown",
   "id": "ed292fad",
   "metadata": {},
   "source": [
    "**Linearty test failed** "
   ]
  },
  {
   "cell_type": "markdown",
   "id": "72d55cd4",
   "metadata": {},
   "source": [
    "### Normality Test - "
   ]
  },
  {
   "cell_type": "code",
   "execution_count": null,
   "id": "99eb0e87",
   "metadata": {},
   "outputs": [],
   "source": [
    "sns.distplot(a = salary_hike['Salary'],hist = False)\n",
    "plt.show()"
   ]
  },
  {
   "cell_type": "code",
   "execution_count": null,
   "id": "b1c2ebe2",
   "metadata": {},
   "outputs": [],
   "source": [
    "sns.distplot(a = salary_hike['Salary Hike'], hist = False)\n",
    "plt.show()"
   ]
  },
  {
   "cell_type": "code",
   "execution_count": null,
   "id": "cd9d0b7b",
   "metadata": {},
   "outputs": [],
   "source": [
    "sns.histplot(a = salary_hike['YearsExperience'], hist = False )\n",
    "plt.show()"
   ]
  },
  {
   "cell_type": "markdown",
   "id": "c0a9926e",
   "metadata": {},
   "source": [
    "**Normality Test is failed** "
   ]
  },
  {
   "cell_type": "code",
   "execution_count": null,
   "id": "3e8f0792",
   "metadata": {},
   "outputs": [],
   "source": [
    "print(salary_hike.skew())"
   ]
  },
  {
   "cell_type": "code",
   "execution_count": null,
   "id": "b84839ce",
   "metadata": {},
   "outputs": [],
   "source": [
    "print(salary_hike.kurtosis())"
   ]
  },
  {
   "cell_type": "markdown",
   "id": "d6ff04f7",
   "metadata": {},
   "source": [
    "# 4. <u>Model Building using SKLEARN library -  "
   ]
  },
  {
   "cell_type": "code",
   "execution_count": null,
   "id": "0d620bfa",
   "metadata": {},
   "outputs": [],
   "source": [
    "x = salary_hike.drop(labels=['Salary Hike'],axis = 1)\n",
    "y = salary_hike[['Salary Hike']]"
   ]
  },
  {
   "cell_type": "code",
   "execution_count": null,
   "id": "55fa0c2e",
   "metadata": {},
   "outputs": [],
   "source": [
    "x"
   ]
  },
  {
   "cell_type": "code",
   "execution_count": null,
   "id": "4bf0fcde",
   "metadata": {},
   "outputs": [],
   "source": [
    "y"
   ]
  },
  {
   "cell_type": "markdown",
   "id": "ed94912b",
   "metadata": {},
   "source": [
    "# 5. <u>Model Training -  "
   ]
  },
  {
   "cell_type": "code",
   "execution_count": null,
   "id": "42348345",
   "metadata": {},
   "outputs": [],
   "source": [
    "salary_model = LinearRegression()\n",
    "salary_model"
   ]
  },
  {
   "cell_type": "code",
   "execution_count": null,
   "id": "e93d5bda",
   "metadata": {},
   "outputs": [],
   "source": [
    "salary_model.fit(x,y)"
   ]
  },
  {
   "cell_type": "code",
   "execution_count": null,
   "id": "f5f49ec8",
   "metadata": {},
   "outputs": [],
   "source": [
    "salary_model.coef_"
   ]
  },
  {
   "cell_type": "code",
   "execution_count": null,
   "id": "53764f03",
   "metadata": {},
   "outputs": [],
   "source": [
    "salary_model.intercept_"
   ]
  },
  {
   "cell_type": "markdown",
   "id": "802f7845",
   "metadata": {},
   "source": [
    "# 6. <u>Model Testing - "
   ]
  },
  {
   "cell_type": "code",
   "execution_count": null,
   "id": "7de6ba2e",
   "metadata": {},
   "outputs": [],
   "source": [
    "y_pred = salary_model.predict(x)\n",
    "y_pred"
   ]
  },
  {
   "cell_type": "markdown",
   "id": "9e8642d0",
   "metadata": {},
   "source": [
    "# 7. <u>Model Evaluation - "
   ]
  },
  {
   "cell_type": "code",
   "execution_count": null,
   "id": "ebc38558",
   "metadata": {},
   "outputs": [],
   "source": [
    "error = y - y_pred\n",
    "error"
   ]
  },
  {
   "cell_type": "markdown",
   "id": "c4ecfe9c",
   "metadata": {},
   "source": [
    "# 8. <u>Homoscadacity and Zero Residual mean test - "
   ]
  },
  {
   "cell_type": "markdown",
   "id": "f6d635a1",
   "metadata": {},
   "source": [
    "## 8.1  Homoscedasticity"
   ]
  },
  {
   "cell_type": "code",
   "execution_count": null,
   "id": "04722178",
   "metadata": {},
   "outputs": [],
   "source": [
    "plt.scatter(x = salary_hike['YearsExperience'] ,y = error)\n",
    "plt.title('Homoscedasticity - Years Of Experience vs Error')\n",
    "plt.xlabel('Years Of Experience')\n",
    "plt.ylabel('Error')\n",
    "plt.show()"
   ]
  },
  {
   "cell_type": "code",
   "execution_count": null,
   "id": "36eb8767",
   "metadata": {},
   "outputs": [],
   "source": [
    "plt.scatter(x = salary_hike['Salary'] ,y = error)\n",
    "plt.title('Homoscedasticity - Salary vs Error')\n",
    "plt.xlabel('Salary')\n",
    "plt.ylabel('Error')\n",
    "plt.show()"
   ]
  },
  {
   "cell_type": "code",
   "execution_count": null,
   "id": "c82ac4c1",
   "metadata": {},
   "outputs": [],
   "source": [
    "plt.scatter(x = salary_hike['Salary Hike'] ,y = error)\n",
    "plt.title('Homoscedasticity - Salary Hike vs Error')\n",
    "plt.xlabel('Salary Hike')\n",
    "plt.ylabel('Error')\n",
    "plt.show()"
   ]
  },
  {
   "cell_type": "markdown",
   "id": "25da4b03",
   "metadata": {},
   "source": [
    "### Observation\n",
    "\n",
    "Homoscedasticity Check **failed**."
   ]
  },
  {
   "cell_type": "markdown",
   "id": "0104045a",
   "metadata": {},
   "source": [
    "## 8.1  Zero Residual Mean "
   ]
  },
  {
   "cell_type": "code",
   "execution_count": null,
   "id": "1f9e8d26",
   "metadata": {},
   "outputs": [],
   "source": [
    "plt.scatter(x = y,y = y_pred)\n",
    "plt.title('Zero Residual Mean - Actual O/p Vs Predicted O/p')\n",
    "plt.xlabel('Actual Output')\n",
    "plt.ylabel('Predicted Output')\n",
    "plt.show()"
   ]
  },
  {
   "cell_type": "markdown",
   "id": "1a693e44",
   "metadata": {},
   "source": [
    "### Observation:\n",
    "\n",
    "Zero Residual Mean Test is also Fails."
   ]
  },
  {
   "cell_type": "code",
   "execution_count": null,
   "id": "bdac5dc3",
   "metadata": {},
   "outputs": [],
   "source": [
    "print('R2 Score =',r2_score(y,y_pred))\n",
    "print('Mean Absolute Error =',mean_absolute_error(y,y_pred))\n",
    "print('Mean Squared Error',mean_squared_error(y,y_pred))"
   ]
  },
  {
   "cell_type": "markdown",
   "id": "e98bdc40",
   "metadata": {},
   "source": [
    "# 9. Scaling of data "
   ]
  },
  {
   "cell_type": "code",
   "execution_count": null,
   "id": "f5833dba",
   "metadata": {},
   "outputs": [],
   "source": [
    "std = StandardScaler()\n",
    "scaled_x = std.fit_transform(x)\n",
    "scaled_x"
   ]
  },
  {
   "cell_type": "markdown",
   "id": "96427ff0",
   "metadata": {},
   "source": [
    "### Training -"
   ]
  },
  {
   "cell_type": "code",
   "execution_count": null,
   "id": "6fcb1234",
   "metadata": {},
   "outputs": [],
   "source": [
    "scaled_model = LinearRegression()\n",
    "scaled_model"
   ]
  },
  {
   "cell_type": "code",
   "execution_count": null,
   "id": "b0dd818b",
   "metadata": {},
   "outputs": [],
   "source": [
    "scaled_model.fit(scaled_x, y)"
   ]
  },
  {
   "cell_type": "markdown",
   "id": "6471d58d",
   "metadata": {},
   "source": [
    "### Testing -"
   ]
  },
  {
   "cell_type": "code",
   "execution_count": null,
   "id": "8467d4fe",
   "metadata": {},
   "outputs": [],
   "source": [
    "y_pred_scaled = scaled_model.predict(scaled_x)\n",
    "y_pred_scaled"
   ]
  },
  {
   "cell_type": "code",
   "execution_count": null,
   "id": "4d597f87",
   "metadata": {},
   "outputs": [],
   "source": [
    "print('R2 Score =',r2_score(y,y_pred_scaled))\n",
    "print('Mean Absolute Error =',mean_absolute_error(y,y_pred_scaled))\n",
    "print('Mean Squared Error',mean_squared_error(y,y_pred_scaled))"
   ]
  },
  {
   "cell_type": "markdown",
   "id": "6265a8d0",
   "metadata": {},
   "source": [
    "#  10. <u>Transformation - "
   ]
  },
  {
   "cell_type": "markdown",
   "id": "30dc8254",
   "metadata": {},
   "source": [
    "### 10.1  Taking log  "
   ]
  },
  {
   "cell_type": "code",
   "execution_count": 103,
   "id": "6c8efab7",
   "metadata": {},
   "outputs": [
    {
     "data": {
      "text/html": [
       "<div>\n",
       "<style scoped>\n",
       "    .dataframe tbody tr th:only-of-type {\n",
       "        vertical-align: middle;\n",
       "    }\n",
       "\n",
       "    .dataframe tbody tr th {\n",
       "        vertical-align: top;\n",
       "    }\n",
       "\n",
       "    .dataframe thead th {\n",
       "        text-align: right;\n",
       "    }\n",
       "</style>\n",
       "<table border=\"1\" class=\"dataframe\">\n",
       "  <thead>\n",
       "    <tr style=\"text-align: right;\">\n",
       "      <th></th>\n",
       "      <th>Sorting Time</th>\n",
       "    </tr>\n",
       "  </thead>\n",
       "  <tbody>\n",
       "    <tr>\n",
       "      <th>0</th>\n",
       "      <td>2.302585</td>\n",
       "    </tr>\n",
       "    <tr>\n",
       "      <th>1</th>\n",
       "      <td>1.386294</td>\n",
       "    </tr>\n",
       "    <tr>\n",
       "      <th>2</th>\n",
       "      <td>1.791759</td>\n",
       "    </tr>\n",
       "    <tr>\n",
       "      <th>3</th>\n",
       "      <td>2.197225</td>\n",
       "    </tr>\n",
       "    <tr>\n",
       "      <th>4</th>\n",
       "      <td>2.302585</td>\n",
       "    </tr>\n",
       "    <tr>\n",
       "      <th>5</th>\n",
       "      <td>1.791759</td>\n",
       "    </tr>\n",
       "    <tr>\n",
       "      <th>6</th>\n",
       "      <td>1.945910</td>\n",
       "    </tr>\n",
       "    <tr>\n",
       "      <th>7</th>\n",
       "      <td>1.098612</td>\n",
       "    </tr>\n",
       "    <tr>\n",
       "      <th>8</th>\n",
       "      <td>2.302585</td>\n",
       "    </tr>\n",
       "    <tr>\n",
       "      <th>9</th>\n",
       "      <td>2.197225</td>\n",
       "    </tr>\n",
       "    <tr>\n",
       "      <th>10</th>\n",
       "      <td>2.079442</td>\n",
       "    </tr>\n",
       "    <tr>\n",
       "      <th>11</th>\n",
       "      <td>1.386294</td>\n",
       "    </tr>\n",
       "    <tr>\n",
       "      <th>12</th>\n",
       "      <td>1.945910</td>\n",
       "    </tr>\n",
       "    <tr>\n",
       "      <th>13</th>\n",
       "      <td>1.098612</td>\n",
       "    </tr>\n",
       "    <tr>\n",
       "      <th>14</th>\n",
       "      <td>1.098612</td>\n",
       "    </tr>\n",
       "    <tr>\n",
       "      <th>15</th>\n",
       "      <td>1.386294</td>\n",
       "    </tr>\n",
       "    <tr>\n",
       "      <th>16</th>\n",
       "      <td>1.791759</td>\n",
       "    </tr>\n",
       "    <tr>\n",
       "      <th>17</th>\n",
       "      <td>1.945910</td>\n",
       "    </tr>\n",
       "    <tr>\n",
       "      <th>18</th>\n",
       "      <td>0.693147</td>\n",
       "    </tr>\n",
       "    <tr>\n",
       "      <th>19</th>\n",
       "      <td>1.945910</td>\n",
       "    </tr>\n",
       "    <tr>\n",
       "      <th>20</th>\n",
       "      <td>1.609438</td>\n",
       "    </tr>\n",
       "  </tbody>\n",
       "</table>\n",
       "</div>"
      ],
      "text/plain": [
       "    Sorting Time\n",
       "0       2.302585\n",
       "1       1.386294\n",
       "2       1.791759\n",
       "3       2.197225\n",
       "4       2.302585\n",
       "5       1.791759\n",
       "6       1.945910\n",
       "7       1.098612\n",
       "8       2.302585\n",
       "9       2.197225\n",
       "10      2.079442\n",
       "11      1.386294\n",
       "12      1.945910\n",
       "13      1.098612\n",
       "14      1.098612\n",
       "15      1.386294\n",
       "16      1.791759\n",
       "17      1.945910\n",
       "18      0.693147\n",
       "19      1.945910\n",
       "20      1.609438"
      ]
     },
     "execution_count": 103,
     "metadata": {},
     "output_type": "execute_result"
    }
   ],
   "source": [
    "x_log = np.log(x)\n",
    "x_log"
   ]
  },
  {
   "cell_type": "markdown",
   "id": "9c28ef90",
   "metadata": {},
   "source": [
    "### Training -"
   ]
  },
  {
   "cell_type": "code",
   "execution_count": null,
   "id": "36060d19",
   "metadata": {},
   "outputs": [],
   "source": [
    "log_model = LinearRegression()\n",
    "log_model"
   ]
  },
  {
   "cell_type": "code",
   "execution_count": null,
   "id": "b0baf202",
   "metadata": {},
   "outputs": [],
   "source": [
    "log_model.fit(x_log,y)"
   ]
  },
  {
   "cell_type": "markdown",
   "id": "7d693306",
   "metadata": {},
   "source": [
    "### Testing -  "
   ]
  },
  {
   "cell_type": "code",
   "execution_count": null,
   "id": "1b93c234",
   "metadata": {},
   "outputs": [],
   "source": [
    "y_pred_log = log_model.predict(x_log)\n",
    "y_pred_log"
   ]
  },
  {
   "cell_type": "code",
   "execution_count": null,
   "id": "993dd53e",
   "metadata": {},
   "outputs": [],
   "source": [
    "print('R2 Square =',r2_score(y,y_pred_log))\n",
    "print('Mean Absolute Error =',mean_absolute_error(y,y_pred_log))\n",
    "print('Mean Squared Error =',mean_squared_error(y,y_pred_log))"
   ]
  },
  {
   "cell_type": "markdown",
   "id": "fd8bdb7a",
   "metadata": {},
   "source": [
    "### 10.2  Taking square root "
   ]
  },
  {
   "cell_type": "code",
   "execution_count": null,
   "id": "7731b72f",
   "metadata": {},
   "outputs": [],
   "source": [
    "x_sqrt = np.sqrt(x)\n",
    "x_sqrt"
   ]
  },
  {
   "cell_type": "markdown",
   "id": "97ca6405",
   "metadata": {},
   "source": [
    "### Training -"
   ]
  },
  {
   "cell_type": "code",
   "execution_count": null,
   "id": "538c9535",
   "metadata": {},
   "outputs": [],
   "source": [
    "sqrt_model = LinearRegression()\n",
    "sqrt_model"
   ]
  },
  {
   "cell_type": "code",
   "execution_count": null,
   "id": "4e080ec0",
   "metadata": {},
   "outputs": [],
   "source": [
    "sqrt_model.fit(x_sqrt,y)\n",
    "sqrt_model"
   ]
  },
  {
   "cell_type": "markdown",
   "id": "7fd1cc6a",
   "metadata": {},
   "source": [
    "### Testing -  "
   ]
  },
  {
   "cell_type": "code",
   "execution_count": null,
   "id": "8d563da2",
   "metadata": {},
   "outputs": [],
   "source": [
    "y_pred_sqrt = sqrt_model.predict(x_sqrt)\n",
    "y_pred_sqrt"
   ]
  },
  {
   "cell_type": "code",
   "execution_count": null,
   "id": "ec296582",
   "metadata": {},
   "outputs": [],
   "source": [
    "print('R2 Score =',r2_score(y,y_pred_sqrt))\n",
    "print('Mean Absolute Error =',mean_absolute_error(y,y_pred_sqrt))\n",
    "print('Mean Squared Error =',mean_squared_error(y,y_pred_sqrt))"
   ]
  },
  {
   "cell_type": "markdown",
   "id": "82cf3f3d",
   "metadata": {},
   "source": [
    "### 10.3  Taking square "
   ]
  },
  {
   "cell_type": "code",
   "execution_count": null,
   "id": "c7c49a9e",
   "metadata": {},
   "outputs": [],
   "source": [
    "x_square = np.square(x)\n",
    "x_square"
   ]
  },
  {
   "cell_type": "markdown",
   "id": "26954858",
   "metadata": {},
   "source": [
    "### Training -"
   ]
  },
  {
   "cell_type": "code",
   "execution_count": null,
   "id": "7484f5f6",
   "metadata": {},
   "outputs": [],
   "source": [
    "square_model = LinearRegression()\n",
    "square_model"
   ]
  },
  {
   "cell_type": "code",
   "execution_count": null,
   "id": "e00dd215",
   "metadata": {},
   "outputs": [],
   "source": [
    "square_model.fit(x_square,y)"
   ]
  },
  {
   "cell_type": "markdown",
   "id": "2dac5543",
   "metadata": {},
   "source": [
    "### Testing -  "
   ]
  },
  {
   "cell_type": "code",
   "execution_count": null,
   "id": "07f916b3",
   "metadata": {},
   "outputs": [],
   "source": [
    "y_pred_square = square_model.predict(x_square)\n",
    "y_pred_square"
   ]
  },
  {
   "cell_type": "code",
   "execution_count": null,
   "id": "303cfba6",
   "metadata": {},
   "outputs": [],
   "source": [
    "print('R2 Score =',r2_score(y,y_pred_square))\n",
    "print('Mean Absolute Error =',mean_absolute_error(y,y_pred_square))\n",
    "print('Mean Squared Error =',mean_squared_error(y,y_pred_square))"
   ]
  },
  {
   "cell_type": "markdown",
   "id": "629e07c3",
   "metadata": {},
   "source": [
    "###  10.4  Taking Sin"
   ]
  },
  {
   "cell_type": "code",
   "execution_count": null,
   "id": "5dae49cd",
   "metadata": {},
   "outputs": [],
   "source": [
    "x_sin = np.sin(x)\n",
    "x_sin"
   ]
  },
  {
   "cell_type": "markdown",
   "id": "df09c099",
   "metadata": {},
   "source": [
    "### Training -"
   ]
  },
  {
   "cell_type": "code",
   "execution_count": null,
   "id": "517c2cc1",
   "metadata": {},
   "outputs": [],
   "source": [
    "sin_model = LinearRegression()\n",
    "sin_model"
   ]
  },
  {
   "cell_type": "code",
   "execution_count": null,
   "id": "e05f75e6",
   "metadata": {},
   "outputs": [],
   "source": [
    "sin_model.fit(x_sin,y)"
   ]
  },
  {
   "cell_type": "markdown",
   "id": "06139acb",
   "metadata": {},
   "source": [
    "### Testing -  "
   ]
  },
  {
   "cell_type": "code",
   "execution_count": null,
   "id": "bc6e9fdf",
   "metadata": {},
   "outputs": [],
   "source": [
    "y_pred_sin = sin_model.predict(x_sin)\n",
    "y_pred_sin"
   ]
  },
  {
   "cell_type": "code",
   "execution_count": null,
   "id": "725246fe",
   "metadata": {},
   "outputs": [],
   "source": [
    "print('R2 Score =',r2_score(y,y_pred_sin))\n",
    "print('Mean Absolute Error =',mean_absolute_error(y,y_pred_sin))\n",
    "print('Mean Squared Error =',mean_squared_error(y,y_pred_sin))"
   ]
  },
  {
   "cell_type": "markdown",
   "id": "2c8e9230",
   "metadata": {},
   "source": [
    "# After transformation we can say that SCALED x has the highest r2 square and the best model."
   ]
  }
 ],
 "metadata": {
  "kernelspec": {
   "display_name": "Python 3 (ipykernel)",
   "language": "python",
   "name": "python3"
  },
  "language_info": {
   "codemirror_mode": {
    "name": "ipython",
    "version": 3
   },
   "file_extension": ".py",
   "mimetype": "text/x-python",
   "name": "python",
   "nbconvert_exporter": "python",
   "pygments_lexer": "ipython3",
   "version": "3.9.7"
  }
 },
 "nbformat": 4,
 "nbformat_minor": 5
}
